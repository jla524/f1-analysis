{
 "cells": [
  {
   "cell_type": "code",
   "execution_count": 1,
   "metadata": {},
   "outputs": [
    {
     "data": {
      "text/plain": [
       "'Connected: @None'"
      ]
     },
     "execution_count": 1,
     "metadata": {},
     "output_type": "execute_result"
    }
   ],
   "source": [
    "import pandas as pd\n",
    "\n",
    "%load_ext sql\n",
    "%sql sqlite://"
   ]
  },
  {
   "cell_type": "code",
   "execution_count": 2,
   "metadata": {
    "scrolled": true
   },
   "outputs": [
    {
     "name": "stdout",
     "output_type": "stream",
     "text": [
      " * sqlite://\n"
     ]
    },
    {
     "data": {
      "text/plain": [
       "'Persisted drivers'"
      ]
     },
     "execution_count": 2,
     "metadata": {},
     "output_type": "execute_result"
    }
   ],
   "source": [
    "drivers = pd.read_csv('drivers.csv', encoding='ISO-8859-1')\n",
    "%sql PERSIST drivers"
   ]
  },
  {
   "cell_type": "code",
   "execution_count": 3,
   "metadata": {},
   "outputs": [
    {
     "name": "stdout",
     "output_type": "stream",
     "text": [
      " * sqlite://\n",
      "Done.\n"
     ]
    },
    {
     "data": {
      "text/html": [
       "<table>\n",
       "    <tr>\n",
       "        <th>index</th>\n",
       "        <th>driverId</th>\n",
       "        <th>driverRef</th>\n",
       "        <th>number</th>\n",
       "        <th>code</th>\n",
       "        <th>forename</th>\n",
       "        <th>surname</th>\n",
       "        <th>dob</th>\n",
       "        <th>nationality</th>\n",
       "        <th>url</th>\n",
       "    </tr>\n",
       "    <tr>\n",
       "        <td>0</td>\n",
       "        <td>1</td>\n",
       "        <td>hamilton</td>\n",
       "        <td>44.0</td>\n",
       "        <td>HAM</td>\n",
       "        <td>Lewis</td>\n",
       "        <td>Hamilton</td>\n",
       "        <td>07/01/1985</td>\n",
       "        <td>British</td>\n",
       "        <td>http://en.wikipedia.org/wiki/Lewis_Hamilton</td>\n",
       "    </tr>\n",
       "    <tr>\n",
       "        <td>1</td>\n",
       "        <td>2</td>\n",
       "        <td>heidfeld</td>\n",
       "        <td>None</td>\n",
       "        <td>HEI</td>\n",
       "        <td>Nick</td>\n",
       "        <td>Heidfeld</td>\n",
       "        <td>10/05/1977</td>\n",
       "        <td>German</td>\n",
       "        <td>http://en.wikipedia.org/wiki/Nick_Heidfeld</td>\n",
       "    </tr>\n",
       "    <tr>\n",
       "        <td>2</td>\n",
       "        <td>3</td>\n",
       "        <td>rosberg</td>\n",
       "        <td>6.0</td>\n",
       "        <td>ROS</td>\n",
       "        <td>Nico</td>\n",
       "        <td>Rosberg</td>\n",
       "        <td>27/06/1985</td>\n",
       "        <td>German</td>\n",
       "        <td>http://en.wikipedia.org/wiki/Nico_Rosberg</td>\n",
       "    </tr>\n",
       "    <tr>\n",
       "        <td>3</td>\n",
       "        <td>4</td>\n",
       "        <td>alonso</td>\n",
       "        <td>14.0</td>\n",
       "        <td>ALO</td>\n",
       "        <td>Fernando</td>\n",
       "        <td>Alonso</td>\n",
       "        <td>29/07/1981</td>\n",
       "        <td>Spanish</td>\n",
       "        <td>http://en.wikipedia.org/wiki/Fernando_Alonso</td>\n",
       "    </tr>\n",
       "    <tr>\n",
       "        <td>4</td>\n",
       "        <td>5</td>\n",
       "        <td>kovalainen</td>\n",
       "        <td>None</td>\n",
       "        <td>KOV</td>\n",
       "        <td>Heikki</td>\n",
       "        <td>Kovalainen</td>\n",
       "        <td>19/10/1981</td>\n",
       "        <td>Finnish</td>\n",
       "        <td>http://en.wikipedia.org/wiki/Heikki_Kovalainen</td>\n",
       "    </tr>\n",
       "    <tr>\n",
       "        <td>5</td>\n",
       "        <td>6</td>\n",
       "        <td>nakajima</td>\n",
       "        <td>None</td>\n",
       "        <td>NAK</td>\n",
       "        <td>Kazuki</td>\n",
       "        <td>Nakajima</td>\n",
       "        <td>11/01/1985</td>\n",
       "        <td>Japanese</td>\n",
       "        <td>http://en.wikipedia.org/wiki/Kazuki_Nakajima</td>\n",
       "    </tr>\n",
       "    <tr>\n",
       "        <td>6</td>\n",
       "        <td>7</td>\n",
       "        <td>bourdais</td>\n",
       "        <td>None</td>\n",
       "        <td>BOU</td>\n",
       "        <td>SÌ©bastien</td>\n",
       "        <td>Bourdais</td>\n",
       "        <td>28/02/1979</td>\n",
       "        <td>French</td>\n",
       "        <td>http://en.wikipedia.org/wiki/S%C3%A9bastien_Bourdais</td>\n",
       "    </tr>\n",
       "    <tr>\n",
       "        <td>7</td>\n",
       "        <td>8</td>\n",
       "        <td>raikkonen</td>\n",
       "        <td>7.0</td>\n",
       "        <td>RAI</td>\n",
       "        <td>Kimi</td>\n",
       "        <td>RÌ_ikkÌ¦nen</td>\n",
       "        <td>17/10/1979</td>\n",
       "        <td>Finnish</td>\n",
       "        <td>http://en.wikipedia.org/wiki/Kimi_R%C3%A4ikk%C3%B6nen</td>\n",
       "    </tr>\n",
       "    <tr>\n",
       "        <td>8</td>\n",
       "        <td>9</td>\n",
       "        <td>kubica</td>\n",
       "        <td>None</td>\n",
       "        <td>KUB</td>\n",
       "        <td>Robert</td>\n",
       "        <td>Kubica</td>\n",
       "        <td>07/12/1984</td>\n",
       "        <td>Polish</td>\n",
       "        <td>http://en.wikipedia.org/wiki/Robert_Kubica</td>\n",
       "    </tr>\n",
       "    <tr>\n",
       "        <td>9</td>\n",
       "        <td>10</td>\n",
       "        <td>glock</td>\n",
       "        <td>None</td>\n",
       "        <td>GLO</td>\n",
       "        <td>Timo</td>\n",
       "        <td>Glock</td>\n",
       "        <td>18/03/1982</td>\n",
       "        <td>German</td>\n",
       "        <td>http://en.wikipedia.org/wiki/Timo_Glock</td>\n",
       "    </tr>\n",
       "</table>"
      ],
      "text/plain": [
       "[(0, 1, 'hamilton', 44.0, 'HAM', 'Lewis', 'Hamilton', '07/01/1985', 'British', 'http://en.wikipedia.org/wiki/Lewis_Hamilton'),\n",
       " (1, 2, 'heidfeld', None, 'HEI', 'Nick', 'Heidfeld', '10/05/1977', 'German', 'http://en.wikipedia.org/wiki/Nick_Heidfeld'),\n",
       " (2, 3, 'rosberg', 6.0, 'ROS', 'Nico', 'Rosberg', '27/06/1985', 'German', 'http://en.wikipedia.org/wiki/Nico_Rosberg'),\n",
       " (3, 4, 'alonso', 14.0, 'ALO', 'Fernando', 'Alonso', '29/07/1981', 'Spanish', 'http://en.wikipedia.org/wiki/Fernando_Alonso'),\n",
       " (4, 5, 'kovalainen', None, 'KOV', 'Heikki', 'Kovalainen', '19/10/1981', 'Finnish', 'http://en.wikipedia.org/wiki/Heikki_Kovalainen'),\n",
       " (5, 6, 'nakajima', None, 'NAK', 'Kazuki', 'Nakajima', '11/01/1985', 'Japanese', 'http://en.wikipedia.org/wiki/Kazuki_Nakajima'),\n",
       " (6, 7, 'bourdais', None, 'BOU', 'SÌ©bastien', 'Bourdais', '28/02/1979', 'French', 'http://en.wikipedia.org/wiki/S%C3%A9bastien_Bourdais'),\n",
       " (7, 8, 'raikkonen', 7.0, 'RAI', 'Kimi', 'RÌ_ikkÌ¦nen', '17/10/1979', 'Finnish', 'http://en.wikipedia.org/wiki/Kimi_R%C3%A4ikk%C3%B6nen'),\n",
       " (8, 9, 'kubica', None, 'KUB', 'Robert', 'Kubica', '07/12/1984', 'Polish', 'http://en.wikipedia.org/wiki/Robert_Kubica'),\n",
       " (9, 10, 'glock', None, 'GLO', 'Timo', 'Glock', '18/03/1982', 'German', 'http://en.wikipedia.org/wiki/Timo_Glock')]"
      ]
     },
     "execution_count": 3,
     "metadata": {},
     "output_type": "execute_result"
    }
   ],
   "source": [
    "%sql SELECT * FROM drivers LIMIT 10;"
   ]
  },
  {
   "cell_type": "code",
   "execution_count": 24,
   "metadata": {},
   "outputs": [
    {
     "name": "stdout",
     "output_type": "stream",
     "text": [
      " * sqlite://\n",
      "Done.\n"
     ]
    },
    {
     "data": {
      "text/html": [
       "<table>\n",
       "    <tr>\n",
       "        <th>forename</th>\n",
       "        <th>surname</th>\n",
       "        <th>dob</th>\n",
       "    </tr>\n",
       "    <tr>\n",
       "        <td>Nelson</td>\n",
       "        <td>Piquet Jr.</td>\n",
       "        <td>25/07/1985</td>\n",
       "    </tr>\n",
       "    <tr>\n",
       "        <td>Felipe</td>\n",
       "        <td>Massa</td>\n",
       "        <td>25/04/1981</td>\n",
       "    </tr>\n",
       "    <tr>\n",
       "        <td>Lucas</td>\n",
       "        <td>di Grassi</td>\n",
       "        <td>11/08/1984</td>\n",
       "    </tr>\n",
       "    <tr>\n",
       "        <td>Bruno</td>\n",
       "        <td>Senna</td>\n",
       "        <td>15/10/1983</td>\n",
       "    </tr>\n",
       "    <tr>\n",
       "        <td>Felipe</td>\n",
       "        <td>Nasr</td>\n",
       "        <td>21/08/1992</td>\n",
       "    </tr>\n",
       "</table>"
      ],
      "text/plain": [
       "[('Nelson', 'Piquet Jr.', '25/07/1985'),\n",
       " ('Felipe', 'Massa', '25/04/1981'),\n",
       " ('Lucas', 'di Grassi', '11/08/1984'),\n",
       " ('Bruno', 'Senna', '15/10/1983'),\n",
       " ('Felipe', 'Nasr', '21/08/1992')]"
      ]
     },
     "execution_count": 24,
     "metadata": {},
     "output_type": "execute_result"
    }
   ],
   "source": [
    "%sql SELECT forename, surname, dob FROM drivers WHERE nationality = 'Brazilian' AND substr(dob,7) > '1980'"
   ]
  },
  {
   "cell_type": "code",
   "execution_count": null,
   "metadata": {},
   "outputs": [],
   "source": []
  }
 ],
 "metadata": {
  "kernelspec": {
   "display_name": "Python 3",
   "language": "python",
   "name": "python3"
  },
  "language_info": {
   "codemirror_mode": {
    "name": "ipython",
    "version": 3
   },
   "file_extension": ".py",
   "mimetype": "text/x-python",
   "name": "python",
   "nbconvert_exporter": "python",
   "pygments_lexer": "ipython3",
   "version": "3.7.2"
  }
 },
 "nbformat": 4,
 "nbformat_minor": 2
}
