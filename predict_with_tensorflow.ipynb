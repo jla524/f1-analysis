{
  "nbformat": 4,
  "nbformat_minor": 0,
  "metadata": {
    "colab": {
      "name": "predict_with_tensorflow.ipynb",
      "version": "0.3.2",
      "provenance": [],
      "private_outputs": true,
      "collapsed_sections": [],
      "include_colab_link": true
    },
    "language_info": {
      "codemirror_mode": {
        "name": "ipython",
        "version": 3
      },
      "file_extension": ".py",
      "mimetype": "text/x-python",
      "name": "python",
      "nbconvert_exporter": "python",
      "pygments_lexer": "ipython3",
      "version": "3.7.2"
    },
    "kernelspec": {
      "name": "python3",
      "display_name": "Python 3"
    },
    "accelerator": "GPU"
  },
  "cells": [
    {
      "cell_type": "markdown",
      "metadata": {
        "id": "view-in-github",
        "colab_type": "text"
      },
      "source": [
        "<a href=\"https://colab.research.google.com/github/jla524/f1-analysis/blob/master/predict_with_tensorflow.ipynb\" target=\"_parent\"><img src=\"https://colab.research.google.com/assets/colab-badge.svg\" alt=\"Open In Colab\"/></a>"
      ]
    },
    {
      "cell_type": "code",
      "metadata": {
        "id": "TEQdrYcVCu9G",
        "colab_type": "code",
        "colab": {}
      },
      "source": [
        "import numpy as np\n",
        "import pandas as pd\n",
        "import tensorflow as tf\n",
        "import matplotlib.pyplot as plt\n",
        "from tensorflow.keras.models import Sequential\n",
        "from tensorflow.keras.layers import LSTM, Dense\n",
        "from sklearn.preprocessing import MinMaxScaler\n",
        "from sklearn.model_selection import train_test_split"
      ],
      "execution_count": 0,
      "outputs": []
    },
    {
      "cell_type": "code",
      "metadata": {
        "id": "P4tv1VqaCu9K",
        "colab_type": "code",
        "colab": {}
      },
      "source": [
        "stock = 'AAPL'"
      ],
      "execution_count": 0,
      "outputs": []
    },
    {
      "cell_type": "code",
      "metadata": {
        "id": "E6ojzgVlCu9N",
        "colab_type": "code",
        "colab": {}
      },
      "source": [
        "pathname = str.lower(stock) + '.us.txt'\n",
        "df = pd.read_csv(pathname)\n",
        "cl = df.Close\n",
        "df.tail()"
      ],
      "execution_count": 0,
      "outputs": []
    },
    {
      "cell_type": "code",
      "metadata": {
        "id": "pNC5Zi5QCu9S",
        "colab_type": "code",
        "colab": {}
      },
      "source": [
        "plt.figure()\n",
        "plt.plot(df[\"Close\"])\n",
        "plt.title(stock + ' stock price history')\n",
        "plt.ylabel('Price (USD)')\n",
        "plt.xlabel('Days')\n",
        "plt.show()"
      ],
      "execution_count": 0,
      "outputs": []
    },
    {
      "cell_type": "code",
      "metadata": {
        "id": "9QyYu0MtCu9W",
        "colab_type": "code",
        "colab": {}
      },
      "source": [
        "plt.figure()\n",
        "plt.plot(df[\"Volume\"])\n",
        "plt.title(stock + ' stock volume history')\n",
        "plt.ylabel('Volume')\n",
        "plt.xlabel('Days')\n",
        "plt.show()"
      ],
      "execution_count": 0,
      "outputs": []
    },
    {
      "cell_type": "code",
      "metadata": {
        "id": "dWj4W1HDCu9Z",
        "colab_type": "code",
        "colab": {}
      },
      "source": [
        "scl = MinMaxScaler()"
      ],
      "execution_count": 0,
      "outputs": []
    },
    {
      "cell_type": "code",
      "metadata": {
        "id": "L5azPuKICu9b",
        "colab_type": "code",
        "colab": {}
      },
      "source": [
        "cl = np.array(cl).reshape(-1, 1)\n",
        "cl = scl.fit_transform(cl)"
      ],
      "execution_count": 0,
      "outputs": []
    },
    {
      "cell_type": "code",
      "metadata": {
        "id": "W0OUpJEeCu9d",
        "colab_type": "code",
        "colab": {}
      },
      "source": [
        "#Create a function to process the data into 7 day look back slices\n",
        "def processData(data,lb):\n",
        "    X,Y = [],[]\n",
        "    for i in range(len(data)-lb-1):\n",
        "        X.append(data[i:(i+lb),0])\n",
        "        Y.append(data[(i+lb),0])\n",
        "    return np.array(X),np.array(Y)\n",
        "X,y = processData(cl,7)\n",
        "X_train,X_test = X[:int(X.shape[0]*0.80)],X[int(X.shape[0]*0.80):]\n",
        "y_train,y_test = y[:int(y.shape[0]*0.80)],y[int(y.shape[0]*0.80):]"
      ],
      "execution_count": 0,
      "outputs": []
    },
    {
      "cell_type": "code",
      "metadata": {
        "id": "O5ZH43DTCu9f",
        "colab_type": "code",
        "colab": {}
      },
      "source": [
        "#Build the model\n",
        "model = Sequential()\n",
        "model.add(LSTM(256,input_shape=(7,1)))\n",
        "model.add(Dense(1))\n",
        "model.compile(optimizer='adam',loss='mse')"
      ],
      "execution_count": 0,
      "outputs": []
    },
    {
      "cell_type": "code",
      "metadata": {
        "id": "z2Z9s0dvCu9h",
        "colab_type": "code",
        "colab": {}
      },
      "source": [
        "#Reshape data for (Sample,Timestep,Features) \n",
        "X_train = X_train.reshape((X_train.shape[0],X_train.shape[1],1))\n",
        "X_test = X_test.reshape((X_test.shape[0],X_test.shape[1],1))"
      ],
      "execution_count": 0,
      "outputs": []
    },
    {
      "cell_type": "code",
      "metadata": {
        "id": "5uEyWvNPCu9j",
        "colab_type": "code",
        "colab": {}
      },
      "source": [
        "#Fit model with history to check for overfitting\n",
        "history = model.fit(X_train,y_train,epochs=150,validation_data=(X_test,y_test),shuffle=False)"
      ],
      "execution_count": 0,
      "outputs": []
    },
    {
      "cell_type": "code",
      "metadata": {
        "id": "j7gJr8qiCu9k",
        "colab_type": "code",
        "colab": {}
      },
      "source": [
        "Xt = model.predict(X_test)\n",
        "plt.plot(scl.inverse_transform(y_test.reshape(-1,1)))\n",
        "plt.plot(scl.inverse_transform(Xt))"
      ],
      "execution_count": 0,
      "outputs": []
    },
    {
      "cell_type": "code",
      "metadata": {
        "id": "QbC8DIZdEBfu",
        "colab_type": "code",
        "colab": {}
      },
      "source": [
        ""
      ],
      "execution_count": 0,
      "outputs": []
    }
  ]
}