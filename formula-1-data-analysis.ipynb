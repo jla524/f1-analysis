{
 "cells": [
  {
   "cell_type": "code",
   "execution_count": 1,
   "metadata": {},
   "outputs": [],
   "source": [
    "# Import Python modules and connect to a SQL database\n",
    "\n",
    "import pandas as pd\n",
    "import seaborn as sns\n",
    "from scipy import stats\n",
    "import matplotlib.pyplot as plt\n",
    "import matplotlib.animation as animation\n",
    "from os.path import isdir\n",
    "from clean_data import clean_data\n",
    "from datetime import datetime, timedelta, date\n",
    "\n",
    "%load_ext sql\n",
    "%sql sqlite://\n",
    "\n",
    "%matplotlib inline"
   ]
  },
  {
   "cell_type": "code",
   "execution_count": 2,
   "metadata": {},
   "outputs": [
    {
     "name": "stdout",
     "output_type": "stream",
     "text": [
      "Columns have been created.\n"
     ]
    }
   ],
   "source": [
    "# Check if a directory containing the cleaned data exists,\n",
    "# and create a new one if it does not exist\n",
    "\n",
    "in_directory = 'f1db_csv/'\n",
    "out_directory = 'clean_f1db/'\n",
    "\n",
    "if not isdir(out_directory):\n",
    "    clean_data(in_directory, out_directory)"
   ]
  },
  {
   "cell_type": "code",
   "execution_count": 3,
   "metadata": {},
   "outputs": [],
   "source": [
    "# Define a function to read the given CSV file with Pandas, \n",
    "# and then return the DataFrame\n",
    "\n",
    "def load_file(name, parse_dates=None):\n",
    "    path = out_directory + name + '.csv'\n",
    "    if not parse_dates:\n",
    "        return pd.read_csv(path)\n",
    "    return pd.read_csv(path, parse_dates=parse_dates)"
   ]
  },
  {
   "cell_type": "code",
   "execution_count": 4,
   "metadata": {
    "scrolled": true
   },
   "outputs": [
    {
     "name": "stdout",
     "output_type": "stream",
     "text": [
      " * sqlite://\n",
      " * sqlite://\n",
      " * sqlite://\n",
      " * sqlite://\n",
      " * sqlite://\n"
     ]
    },
    {
     "data": {
      "text/plain": [
       "'Persisted circuits'"
      ]
     },
     "execution_count": 4,
     "metadata": {},
     "output_type": "execute_result"
    }
   ],
   "source": [
    "# Load the CSV files and create SQL tables\n",
    "\n",
    "drivers = load_file('drivers')\n",
    "%sql PERSIST drivers\n",
    "\n",
    "constr = load_file('constructors')\n",
    "%sql PERSIST constr\n",
    "\n",
    "results = load_file('results')\n",
    "%sql PERSIST results\n",
    "\n",
    "races = load_file('races')\n",
    "%sql PERSIST races\n",
    "\n",
    "circuits = load_file('circuits')\n",
    "%sql PERSIST circuits"
   ]
  },
  {
   "cell_type": "markdown",
   "metadata": {},
   "source": [
    "## SQL Table vs Pandas DataFrame\n",
    "Notice the similarities between the two."
   ]
  },
  {
   "cell_type": "code",
   "execution_count": 5,
   "metadata": {
    "scrolled": true
   },
   "outputs": [
    {
     "name": "stdout",
     "output_type": "stream",
     "text": [
      " * sqlite://\n",
      "Done.\n"
     ]
    },
    {
     "data": {
      "text/html": [
       "<table>\n",
       "    <tr>\n",
       "        <th>index</th>\n",
       "        <th>driverId</th>\n",
       "        <th>driverRef</th>\n",
       "        <th>number</th>\n",
       "        <th>code</th>\n",
       "        <th>forename</th>\n",
       "        <th>surname</th>\n",
       "        <th>dob</th>\n",
       "        <th>nationality</th>\n",
       "        <th>url</th>\n",
       "    </tr>\n",
       "    <tr>\n",
       "        <td>0</td>\n",
       "        <td>1</td>\n",
       "        <td>hamilton</td>\n",
       "        <td>44.0</td>\n",
       "        <td>HAM</td>\n",
       "        <td>Lewis</td>\n",
       "        <td>Hamilton</td>\n",
       "        <td>1985-01-07</td>\n",
       "        <td>British</td>\n",
       "        <td>http://en.wikipedia.org/wiki/Lewis_Hamilton</td>\n",
       "    </tr>\n",
       "    <tr>\n",
       "        <td>1</td>\n",
       "        <td>2</td>\n",
       "        <td>heidfeld</td>\n",
       "        <td>None</td>\n",
       "        <td>HEI</td>\n",
       "        <td>Nick</td>\n",
       "        <td>Heidfeld</td>\n",
       "        <td>1977-05-10</td>\n",
       "        <td>German</td>\n",
       "        <td>http://en.wikipedia.org/wiki/Nick_Heidfeld</td>\n",
       "    </tr>\n",
       "    <tr>\n",
       "        <td>2</td>\n",
       "        <td>3</td>\n",
       "        <td>rosberg</td>\n",
       "        <td>6.0</td>\n",
       "        <td>ROS</td>\n",
       "        <td>Nico</td>\n",
       "        <td>Rosberg</td>\n",
       "        <td>1985-06-27</td>\n",
       "        <td>German</td>\n",
       "        <td>http://en.wikipedia.org/wiki/Nico_Rosberg</td>\n",
       "    </tr>\n",
       "    <tr>\n",
       "        <td>3</td>\n",
       "        <td>4</td>\n",
       "        <td>alonso</td>\n",
       "        <td>14.0</td>\n",
       "        <td>ALO</td>\n",
       "        <td>Fernando</td>\n",
       "        <td>Alonso</td>\n",
       "        <td>1981-07-29</td>\n",
       "        <td>Spanish</td>\n",
       "        <td>http://en.wikipedia.org/wiki/Fernando_Alonso</td>\n",
       "    </tr>\n",
       "    <tr>\n",
       "        <td>4</td>\n",
       "        <td>5</td>\n",
       "        <td>kovalainen</td>\n",
       "        <td>None</td>\n",
       "        <td>KOV</td>\n",
       "        <td>Heikki</td>\n",
       "        <td>Kovalainen</td>\n",
       "        <td>1981-10-19</td>\n",
       "        <td>Finnish</td>\n",
       "        <td>http://en.wikipedia.org/wiki/Heikki_Kovalainen</td>\n",
       "    </tr>\n",
       "</table>"
      ],
      "text/plain": [
       "[(0, 1, 'hamilton', 44.0, 'HAM', 'Lewis', 'Hamilton', '1985-01-07', 'British', 'http://en.wikipedia.org/wiki/Lewis_Hamilton'),\n",
       " (1, 2, 'heidfeld', None, 'HEI', 'Nick', 'Heidfeld', '1977-05-10', 'German', 'http://en.wikipedia.org/wiki/Nick_Heidfeld'),\n",
       " (2, 3, 'rosberg', 6.0, 'ROS', 'Nico', 'Rosberg', '1985-06-27', 'German', 'http://en.wikipedia.org/wiki/Nico_Rosberg'),\n",
       " (3, 4, 'alonso', 14.0, 'ALO', 'Fernando', 'Alonso', '1981-07-29', 'Spanish', 'http://en.wikipedia.org/wiki/Fernando_Alonso'),\n",
       " (4, 5, 'kovalainen', None, 'KOV', 'Heikki', 'Kovalainen', '1981-10-19', 'Finnish', 'http://en.wikipedia.org/wiki/Heikki_Kovalainen')]"
      ]
     },
     "execution_count": 5,
     "metadata": {},
     "output_type": "execute_result"
    }
   ],
   "source": [
    "%sql SELECT * FROM drivers LIMIT 5;"
   ]
  },
  {
   "cell_type": "code",
   "execution_count": 6,
   "metadata": {},
   "outputs": [
    {
     "data": {
      "text/html": [
       "<div>\n",
       "<style scoped>\n",
       "    .dataframe tbody tr th:only-of-type {\n",
       "        vertical-align: middle;\n",
       "    }\n",
       "\n",
       "    .dataframe tbody tr th {\n",
       "        vertical-align: top;\n",
       "    }\n",
       "\n",
       "    .dataframe thead th {\n",
       "        text-align: right;\n",
       "    }\n",
       "</style>\n",
       "<table border=\"1\" class=\"dataframe\">\n",
       "  <thead>\n",
       "    <tr style=\"text-align: right;\">\n",
       "      <th></th>\n",
       "      <th>driverId</th>\n",
       "      <th>driverRef</th>\n",
       "      <th>number</th>\n",
       "      <th>code</th>\n",
       "      <th>forename</th>\n",
       "      <th>surname</th>\n",
       "      <th>dob</th>\n",
       "      <th>nationality</th>\n",
       "      <th>url</th>\n",
       "    </tr>\n",
       "  </thead>\n",
       "  <tbody>\n",
       "    <tr>\n",
       "      <th>0</th>\n",
       "      <td>1</td>\n",
       "      <td>hamilton</td>\n",
       "      <td>44.0</td>\n",
       "      <td>HAM</td>\n",
       "      <td>Lewis</td>\n",
       "      <td>Hamilton</td>\n",
       "      <td>1985-01-07</td>\n",
       "      <td>British</td>\n",
       "      <td>http://en.wikipedia.org/wiki/Lewis_Hamilton</td>\n",
       "    </tr>\n",
       "    <tr>\n",
       "      <th>1</th>\n",
       "      <td>2</td>\n",
       "      <td>heidfeld</td>\n",
       "      <td>NaN</td>\n",
       "      <td>HEI</td>\n",
       "      <td>Nick</td>\n",
       "      <td>Heidfeld</td>\n",
       "      <td>1977-05-10</td>\n",
       "      <td>German</td>\n",
       "      <td>http://en.wikipedia.org/wiki/Nick_Heidfeld</td>\n",
       "    </tr>\n",
       "    <tr>\n",
       "      <th>2</th>\n",
       "      <td>3</td>\n",
       "      <td>rosberg</td>\n",
       "      <td>6.0</td>\n",
       "      <td>ROS</td>\n",
       "      <td>Nico</td>\n",
       "      <td>Rosberg</td>\n",
       "      <td>1985-06-27</td>\n",
       "      <td>German</td>\n",
       "      <td>http://en.wikipedia.org/wiki/Nico_Rosberg</td>\n",
       "    </tr>\n",
       "    <tr>\n",
       "      <th>3</th>\n",
       "      <td>4</td>\n",
       "      <td>alonso</td>\n",
       "      <td>14.0</td>\n",
       "      <td>ALO</td>\n",
       "      <td>Fernando</td>\n",
       "      <td>Alonso</td>\n",
       "      <td>1981-07-29</td>\n",
       "      <td>Spanish</td>\n",
       "      <td>http://en.wikipedia.org/wiki/Fernando_Alonso</td>\n",
       "    </tr>\n",
       "    <tr>\n",
       "      <th>4</th>\n",
       "      <td>5</td>\n",
       "      <td>kovalainen</td>\n",
       "      <td>NaN</td>\n",
       "      <td>KOV</td>\n",
       "      <td>Heikki</td>\n",
       "      <td>Kovalainen</td>\n",
       "      <td>1981-10-19</td>\n",
       "      <td>Finnish</td>\n",
       "      <td>http://en.wikipedia.org/wiki/Heikki_Kovalainen</td>\n",
       "    </tr>\n",
       "  </tbody>\n",
       "</table>\n",
       "</div>"
      ],
      "text/plain": [
       "   driverId   driverRef  number code  forename     surname         dob  \\\n",
       "0         1    hamilton    44.0  HAM     Lewis    Hamilton  1985-01-07   \n",
       "1         2    heidfeld     NaN  HEI      Nick    Heidfeld  1977-05-10   \n",
       "2         3     rosberg     6.0  ROS      Nico     Rosberg  1985-06-27   \n",
       "3         4      alonso    14.0  ALO  Fernando      Alonso  1981-07-29   \n",
       "4         5  kovalainen     NaN  KOV    Heikki  Kovalainen  1981-10-19   \n",
       "\n",
       "  nationality                                             url  \n",
       "0     British     http://en.wikipedia.org/wiki/Lewis_Hamilton  \n",
       "1      German      http://en.wikipedia.org/wiki/Nick_Heidfeld  \n",
       "2      German       http://en.wikipedia.org/wiki/Nico_Rosberg  \n",
       "3     Spanish    http://en.wikipedia.org/wiki/Fernando_Alonso  \n",
       "4     Finnish  http://en.wikipedia.org/wiki/Heikki_Kovalainen  "
      ]
     },
     "execution_count": 6,
     "metadata": {},
     "output_type": "execute_result"
    }
   ],
   "source": [
    "drivers.head()"
   ]
  },
  {
   "cell_type": "markdown",
   "metadata": {},
   "source": [
    "## Problem 1\n",
    "Find the most successful constructors in F1 by race wins and plot the results."
   ]
  },
  {
   "cell_type": "code",
   "execution_count": 7,
   "metadata": {},
   "outputs": [
    {
     "name": "stdout",
     "output_type": "stream",
     "text": [
      " * sqlite://\n",
      "Done.\n"
     ]
    },
    {
     "data": {
      "text/html": [
       "<table>\n",
       "    <tr>\n",
       "        <th>name</th>\n",
       "        <th>count</th>\n",
       "    </tr>\n",
       "    <tr>\n",
       "        <td>Ferrari</td>\n",
       "        <td>236</td>\n",
       "    </tr>\n",
       "    <tr>\n",
       "        <td>McLaren</td>\n",
       "        <td>178</td>\n",
       "    </tr>\n",
       "    <tr>\n",
       "        <td>Williams</td>\n",
       "        <td>114</td>\n",
       "    </tr>\n",
       "    <tr>\n",
       "        <td>Mercedes</td>\n",
       "        <td>96</td>\n",
       "    </tr>\n",
       "    <tr>\n",
       "        <td>Red Bull</td>\n",
       "        <td>61</td>\n",
       "    </tr>\n",
       "    <tr>\n",
       "        <td>Team Lotus</td>\n",
       "        <td>45</td>\n",
       "    </tr>\n",
       "    <tr>\n",
       "        <td>Renault</td>\n",
       "        <td>35</td>\n",
       "    </tr>\n",
       "    <tr>\n",
       "        <td>Benetton</td>\n",
       "        <td>27</td>\n",
       "    </tr>\n",
       "    <tr>\n",
       "        <td>Tyrrell</td>\n",
       "        <td>23</td>\n",
       "    </tr>\n",
       "    <tr>\n",
       "        <td>Brabham</td>\n",
       "        <td>23</td>\n",
       "    </tr>\n",
       "</table>"
      ],
      "text/plain": [
       "[('Ferrari', 236),\n",
       " ('McLaren', 178),\n",
       " ('Williams', 114),\n",
       " ('Mercedes', 96),\n",
       " ('Red Bull', 61),\n",
       " ('Team Lotus', 45),\n",
       " ('Renault', 35),\n",
       " ('Benetton', 27),\n",
       " ('Tyrrell', 23),\n",
       " ('Brabham', 23)]"
      ]
     },
     "execution_count": 7,
     "metadata": {},
     "output_type": "execute_result"
    }
   ],
   "source": [
    "%%sql\n",
    "\n",
    "-- Find the total number of race wins for each constructor.\n",
    "-- Only keep the top 10, this makes it easier to view the pie chart.\n",
    "-- A win here means position = 1.\n",
    "\n",
    "SELECT name, COUNT(*) AS count\n",
    "  FROM results AS r\n",
    "  JOIN constr AS c\n",
    "    ON r.constructorId = c.constructorId\n",
    " WHERE position = 1\n",
    " GROUP BY r.constructorId\n",
    " ORDER BY count DESC\n",
    " LIMIT 10;"
   ]
  },
  {
   "cell_type": "code",
   "execution_count": 8,
   "metadata": {},
   "outputs": [],
   "source": [
    "# We can do the same with Pandas to verify the results\n",
    "\n",
    "df = results[results['position'] == 1]\n",
    "df = df.groupby('constructorId').agg('count')\n",
    "df = df.join(constr.set_index('constructorId'))"
   ]
  },
  {
   "cell_type": "code",
   "execution_count": 9,
   "metadata": {},
   "outputs": [
    {
     "data": {
      "text/html": [
       "<div>\n",
       "<style scoped>\n",
       "    .dataframe tbody tr th:only-of-type {\n",
       "        vertical-align: middle;\n",
       "    }\n",
       "\n",
       "    .dataframe tbody tr th {\n",
       "        vertical-align: top;\n",
       "    }\n",
       "\n",
       "    .dataframe thead th {\n",
       "        text-align: right;\n",
       "    }\n",
       "</style>\n",
       "<table border=\"1\" class=\"dataframe\">\n",
       "  <thead>\n",
       "    <tr style=\"text-align: right;\">\n",
       "      <th></th>\n",
       "      <th>name</th>\n",
       "      <th>resultId</th>\n",
       "    </tr>\n",
       "    <tr>\n",
       "      <th>constructorId</th>\n",
       "      <th></th>\n",
       "      <th></th>\n",
       "    </tr>\n",
       "  </thead>\n",
       "  <tbody>\n",
       "    <tr>\n",
       "      <th>6</th>\n",
       "      <td>Ferrari</td>\n",
       "      <td>236</td>\n",
       "    </tr>\n",
       "    <tr>\n",
       "      <th>1</th>\n",
       "      <td>McLaren</td>\n",
       "      <td>178</td>\n",
       "    </tr>\n",
       "    <tr>\n",
       "      <th>3</th>\n",
       "      <td>Williams</td>\n",
       "      <td>114</td>\n",
       "    </tr>\n",
       "    <tr>\n",
       "      <th>131</th>\n",
       "      <td>Mercedes</td>\n",
       "      <td>96</td>\n",
       "    </tr>\n",
       "    <tr>\n",
       "      <th>9</th>\n",
       "      <td>Red Bull</td>\n",
       "      <td>61</td>\n",
       "    </tr>\n",
       "    <tr>\n",
       "      <th>32</th>\n",
       "      <td>Team Lotus</td>\n",
       "      <td>45</td>\n",
       "    </tr>\n",
       "    <tr>\n",
       "      <th>4</th>\n",
       "      <td>Renault</td>\n",
       "      <td>35</td>\n",
       "    </tr>\n",
       "    <tr>\n",
       "      <th>22</th>\n",
       "      <td>Benetton</td>\n",
       "      <td>27</td>\n",
       "    </tr>\n",
       "    <tr>\n",
       "      <th>25</th>\n",
       "      <td>Tyrrell</td>\n",
       "      <td>23</td>\n",
       "    </tr>\n",
       "    <tr>\n",
       "      <th>34</th>\n",
       "      <td>Brabham</td>\n",
       "      <td>23</td>\n",
       "    </tr>\n",
       "  </tbody>\n",
       "</table>\n",
       "</div>"
      ],
      "text/plain": [
       "                     name  resultId\n",
       "constructorId                      \n",
       "6                 Ferrari       236\n",
       "1                 McLaren       178\n",
       "3                Williams       114\n",
       "131              Mercedes        96\n",
       "9                Red Bull        61\n",
       "32             Team Lotus        45\n",
       "4                 Renault        35\n",
       "22               Benetton        27\n",
       "25                Tyrrell        23\n",
       "34                Brabham        23"
      ]
     },
     "execution_count": 9,
     "metadata": {},
     "output_type": "execute_result"
    }
   ],
   "source": [
    "# Both methods produced the same result, but which one is easier to read?\n",
    "\n",
    "df = df[['name', 'resultId']].sort_values('resultId', ascending=False)\n",
    "df = df.head(10)\n",
    "df"
   ]
  },
  {
   "cell_type": "code",
   "execution_count": 10,
   "metadata": {},
   "outputs": [
    {
     "data": {
      "text/plain": [
       "Text(0.5, 1.0, 'Number of Race Wins in Formula 1')"
      ]
     },
     "execution_count": 10,
     "metadata": {},
     "output_type": "execute_result"
    },
    {
     "data": {
      "image/png": "[encoded data removed]",
      "text/plain": [
       "<Figure size 432x288 with 1 Axes>"
      ]
     },
     "metadata": {
      "needs_background": "light"
     },
     "output_type": "display_data"
    }
   ],
   "source": [
    "'''\n",
    "Now we can produce a bar chart using the DataFrame. Since Matplotlib allows \n",
    "us to specify colors in the pie chart, we can use the colors that represent \n",
    "these teams.\n",
    "\n",
    "Credits to www.f1colours.com, html-color-codes.info/colors-from-image/, and\n",
    "www.reddit.com/r/formula1/comments/arxt0r/f1_2019_team_colors_hex_codes/\n",
    "for the team colors.\n",
    "'''\n",
    "\n",
    "colors = ['#DC0000', '#FF8700', '#FFFFFF', '#00D2BE', '#1E41FF', \n",
    "          '#AF9B5E', '#FFDF00', '#35C4EC', '#095248', '#30505C']\n",
    "\n",
    "plt.xticks(rotation=30)\n",
    "plt.bar(df['name'], df['resultId'], color=colors, edgecolor='#000000');\n",
    "plt.title('Number of Race Wins in Formula 1')"
   ]
  },
  {
   "cell_type": "markdown",
   "metadata": {},
   "source": [
    "## Problem 2\n",
    "Find the most successful constructors in F1 by win rate and plot the results.\n",
    "\n",
    "Win rate is defined by number of race wins divided by number of race entries."
   ]
  },
  {
   "cell_type": "code",
   "execution_count": 11,
   "metadata": {},
   "outputs": [
    {
     "name": "stdout",
     "output_type": "stream",
     "text": [
      " * sqlite://\n",
      "Done.\n"
     ]
    },
    {
     "data": {
      "text/html": [
       "<table>\n",
       "    <tr>\n",
       "        <th>name</th>\n",
       "        <th>win_rate</th>\n",
       "    </tr>\n",
       "    <tr>\n",
       "        <td>Brawn</td>\n",
       "        <td>0.235</td>\n",
       "    </tr>\n",
       "    <tr>\n",
       "        <td>Mercedes</td>\n",
       "        <td>0.23</td>\n",
       "    </tr>\n",
       "    <tr>\n",
       "        <td>Matra-Ford</td>\n",
       "        <td>0.225</td>\n",
       "    </tr>\n",
       "    <tr>\n",
       "        <td>Vanwall</td>\n",
       "        <td>0.141</td>\n",
       "    </tr>\n",
       "    <tr>\n",
       "        <td>Watson</td>\n",
       "        <td>0.136</td>\n",
       "    </tr>\n",
       "    <tr>\n",
       "        <td>Epperly</td>\n",
       "        <td>0.118</td>\n",
       "    </tr>\n",
       "    <tr>\n",
       "        <td>Red Bull</td>\n",
       "        <td>0.11</td>\n",
       "    </tr>\n",
       "    <tr>\n",
       "        <td>Ferrari</td>\n",
       "        <td>0.107</td>\n",
       "    </tr>\n",
       "    <tr>\n",
       "        <td>McLaren</td>\n",
       "        <td>0.105</td>\n",
       "    </tr>\n",
       "    <tr>\n",
       "        <td>Brabham-Repco</td>\n",
       "        <td>0.104</td>\n",
       "    </tr>\n",
       "</table>"
      ],
      "text/plain": [
       "[('Brawn', 0.235),\n",
       " ('Mercedes', 0.23),\n",
       " ('Matra-Ford', 0.225),\n",
       " ('Vanwall', 0.141),\n",
       " ('Watson', 0.136),\n",
       " ('Epperly', 0.118),\n",
       " ('Red Bull', 0.11),\n",
       " ('Ferrari', 0.107),\n",
       " ('McLaren', 0.105),\n",
       " ('Brabham-Repco', 0.104)]"
      ]
     },
     "execution_count": 11,
     "metadata": {},
     "output_type": "execute_result"
    }
   ],
   "source": [
    "%%sql \n",
    "\n",
    "-- Similar to the previous query, first find the number of race wins\n",
    "-- Then compute the number of race entries and divide\n",
    "\n",
    "WITH race_wins(consId, wins) AS \n",
    "     (SELECT constructorId, COUNT(*)\n",
    "        FROM results\n",
    "       WHERE position = 1\n",
    "       GROUP BY constructorId)\n",
    "\n",
    "\n",
    "SELECT name, \n",
    "       ROUND(1.0 * W.wins / COUNT(*), 3) AS win_rate\n",
    "  FROM constr AS c\n",
    "       JOIN results AS r\n",
    "       ON c.constructorId = r.constructorId\n",
    "        \n",
    "       JOIN race_wins AS w\n",
    "       ON r.constructorId = w.consId\n",
    " GROUP BY r.constructorId\n",
    " ORDER BY win_rate DESC\n",
    " LIMIT 10;"
   ]
  },
  {
   "cell_type": "code",
   "execution_count": 12,
   "metadata": {},
   "outputs": [
    {
     "data": {
      "text/plain": [
       "<BarContainer object of 10 artists>"
      ]
     },
     "execution_count": 12,
     "metadata": {},
     "output_type": "execute_result"
    },
    {
     "data": {
      "image/png": "[encoded data removed]",
      "text/plain": [
       "<Figure size 432x288 with 1 Axes>"
      ]
     },
     "metadata": {
      "needs_background": "light"
     },
     "output_type": "display_data"
    }
   ],
   "source": [
    "colors = ['#D5FA78', '#00D2BE', '#76B2E6', '#498F84', '#B0301C', \n",
    "          '#FFFEFF', '#1E41FF', '#DC0000', '#FF8700', '#025A2F']\n",
    "\n",
    "plt.title('Win Rate in Formula 1')\n",
    "_.bar(color=colors, edgecolor='#000000')"
   ]
  },
  {
   "cell_type": "markdown",
   "metadata": {},
   "source": [
    "## Problem 3\n",
    "Is the number of races each season increasing?"
   ]
  },
  {
   "cell_type": "code",
   "execution_count": 13,
   "metadata": {},
   "outputs": [],
   "source": [
    "# Group by 'year' and aggregate by count\n",
    "\n",
    "df = races.groupby('year').aggregate('count').reset_index()"
   ]
  },
  {
   "cell_type": "code",
   "execution_count": 14,
   "metadata": {},
   "outputs": [],
   "source": [
    "# Find a best fit line\n",
    "\n",
    "fit = stats.linregress(df['year'], df['raceId'])\n",
    "df['fit'] = fit.slope * df['year'] + fit.intercept"
   ]
  },
  {
   "cell_type": "code",
   "execution_count": 15,
   "metadata": {},
   "outputs": [
    {
     "data": {
      "text/plain": [
       "Text(0, 0.5, 'Number of Races')"
      ]
     },
     "execution_count": 15,
     "metadata": {},
     "output_type": "execute_result"
    },
    {
     "data": {
      "image/png": "[encoded data removed]",
      "text/plain": [
       "<Figure size 432x288 with 1 Axes>"
      ]
     },
     "metadata": {
      "needs_background": "light"
     },
     "output_type": "display_data"
    }
   ],
   "source": [
    "# Take a look at the results, is the slope increasing?\n",
    "\n",
    "plt.plot(df['year'], df['raceId'], '.')\n",
    "plt.plot(df['year'], df['fit'], 'r-')\n",
    "plt.title('Number of Races vs Year')\n",
    "plt.xlabel('Year')\n",
    "plt.ylabel('Number of Races')"
   ]
  },
  {
   "cell_type": "markdown",
   "metadata": {},
   "source": [
    "## Problem 4\n",
    "Find all drivers that have won a drivers' championship title with Ferrari. "
   ]
  },
  {
   "cell_type": "code",
   "execution_count": 16,
   "metadata": {},
   "outputs": [
    {
     "name": "stdout",
     "output_type": "stream",
     "text": [
      " * sqlite://\n",
      "Done.\n",
      "3099 rows affected.\n"
     ]
    },
    {
     "data": {
      "text/plain": [
       "[]"
      ]
     },
     "execution_count": 16,
     "metadata": {},
     "output_type": "execute_result"
    }
   ],
   "source": [
    "%%sql\n",
    "\n",
    "-- For every season, find each driver's total points.\n",
    "-- Store the results of this query so we can use it again later.\n",
    "\n",
    "CREATE TEMP TABLE standings(consId INT, drivId INT, year INT, points INT);\n",
    "\n",
    "INSERT INTO Standings\n",
    "SELECT constructorId, driverId, \n",
    "       year, SUM(points)\n",
    "  FROM results AS re\n",
    "  JOIN races AS ra\n",
    "    ON re.raceId = ra.raceId\n",
    " GROUP BY driverId, year;"
   ]
  },
  {
   "cell_type": "code",
   "execution_count": 17,
   "metadata": {},
   "outputs": [
    {
     "name": "stdout",
     "output_type": "stream",
     "text": [
      " * sqlite://\n",
      "Done.\n"
     ]
    },
    {
     "data": {
      "text/html": [
       "<table>\n",
       "    <tr>\n",
       "        <th>forename</th>\n",
       "        <th>surname</th>\n",
       "        <th>nationality</th>\n",
       "        <th>year</th>\n",
       "    </tr>\n",
       "    <tr>\n",
       "        <td>Kimi</td>\n",
       "        <td>Räikkönen</td>\n",
       "        <td>Finnish</td>\n",
       "        <td>2007</td>\n",
       "    </tr>\n",
       "    <tr>\n",
       "        <td>Michael</td>\n",
       "        <td>Schumacher</td>\n",
       "        <td>German</td>\n",
       "        <td>2000</td>\n",
       "    </tr>\n",
       "    <tr>\n",
       "        <td>Michael</td>\n",
       "        <td>Schumacher</td>\n",
       "        <td>German</td>\n",
       "        <td>2001</td>\n",
       "    </tr>\n",
       "    <tr>\n",
       "        <td>Michael</td>\n",
       "        <td>Schumacher</td>\n",
       "        <td>German</td>\n",
       "        <td>2002</td>\n",
       "    </tr>\n",
       "    <tr>\n",
       "        <td>Michael</td>\n",
       "        <td>Schumacher</td>\n",
       "        <td>German</td>\n",
       "        <td>2003</td>\n",
       "    </tr>\n",
       "    <tr>\n",
       "        <td>Michael</td>\n",
       "        <td>Schumacher</td>\n",
       "        <td>German</td>\n",
       "        <td>2004</td>\n",
       "    </tr>\n",
       "    <tr>\n",
       "        <td>Niki</td>\n",
       "        <td>Lauda</td>\n",
       "        <td>Austrian</td>\n",
       "        <td>1975</td>\n",
       "    </tr>\n",
       "    <tr>\n",
       "        <td>Niki</td>\n",
       "        <td>Lauda</td>\n",
       "        <td>Austrian</td>\n",
       "        <td>1977</td>\n",
       "    </tr>\n",
       "    <tr>\n",
       "        <td>Jody</td>\n",
       "        <td>Scheckter</td>\n",
       "        <td>South African</td>\n",
       "        <td>1979</td>\n",
       "    </tr>\n",
       "    <tr>\n",
       "        <td>Phil</td>\n",
       "        <td>Hill</td>\n",
       "        <td>American</td>\n",
       "        <td>1961</td>\n",
       "    </tr>\n",
       "    <tr>\n",
       "        <td>Mike</td>\n",
       "        <td>Hawthorn</td>\n",
       "        <td>British</td>\n",
       "        <td>1958</td>\n",
       "    </tr>\n",
       "    <tr>\n",
       "        <td>Juan</td>\n",
       "        <td>Fangio</td>\n",
       "        <td>Argentine</td>\n",
       "        <td>1956</td>\n",
       "    </tr>\n",
       "    <tr>\n",
       "        <td>Alberto</td>\n",
       "        <td>Ascari</td>\n",
       "        <td>Italian</td>\n",
       "        <td>1952</td>\n",
       "    </tr>\n",
       "    <tr>\n",
       "        <td>Alberto</td>\n",
       "        <td>Ascari</td>\n",
       "        <td>Italian</td>\n",
       "        <td>1953</td>\n",
       "    </tr>\n",
       "</table>"
      ],
      "text/plain": [
       "[('Kimi', 'Räikkönen', 'Finnish', 2007),\n",
       " ('Michael', 'Schumacher', 'German', 2000),\n",
       " ('Michael', 'Schumacher', 'German', 2001),\n",
       " ('Michael', 'Schumacher', 'German', 2002),\n",
       " ('Michael', 'Schumacher', 'German', 2003),\n",
       " ('Michael', 'Schumacher', 'German', 2004),\n",
       " ('Niki', 'Lauda', 'Austrian', 1975),\n",
       " ('Niki', 'Lauda', 'Austrian', 1977),\n",
       " ('Jody', 'Scheckter', 'South African', 1979),\n",
       " ('Phil', 'Hill', 'American', 1961),\n",
       " ('Mike', 'Hawthorn', 'British', 1958),\n",
       " ('Juan', 'Fangio', 'Argentine', 1956),\n",
       " ('Alberto', 'Ascari', 'Italian', 1952),\n",
       " ('Alberto', 'Ascari', 'Italian', 1953)]"
      ]
     },
     "execution_count": 17,
     "metadata": {},
     "output_type": "execute_result"
    }
   ],
   "source": [
    "%%sql\n",
    "\n",
    "-- The drivers that have scored the most points in a season are the\n",
    "-- driver's champion. Keep entries where constructor name is Ferrari.\n",
    "\n",
    "-- The sorting order of year is quite intersting.\n",
    "\n",
    "WITH champions(consId, drivId, year) AS \n",
    "     (SELECT consId, drivId, \n",
    "             s.year\n",
    "        FROM standings AS s\n",
    "        JOIN (SELECT year, \n",
    "                     MAX(points) AS points\n",
    "                FROM standings \n",
    "               GROUP BY year) AS ms\n",
    "          ON s.year = ms.year\n",
    "             AND s.points = ms.points)\n",
    "\n",
    "    \n",
    "SELECT forename, \n",
    "       surname,\n",
    "       d.nationality, \n",
    "       ch.year\n",
    "  FROM champions AS ch\n",
    "  JOIN constr AS co\n",
    "    ON ch.consId = co.constructorId\n",
    "    \n",
    "  JOIN drivers AS d\n",
    "    ON ch.drivId = d.driverId\n",
    " WHERE co.name = 'Ferrari';"
   ]
  },
  {
   "cell_type": "markdown",
   "metadata": {},
   "source": [
    "## Problem 5\n",
    "Some drivers were very close to winning a title with Ferrari.\n",
    "\n",
    "Find the ones that lost by no more than five points."
   ]
  },
  {
   "cell_type": "code",
   "execution_count": 18,
   "metadata": {},
   "outputs": [
    {
     "name": "stdout",
     "output_type": "stream",
     "text": [
      " * sqlite://\n",
      "Done.\n"
     ]
    },
    {
     "data": {
      "text/html": [
       "<table>\n",
       "    <tr>\n",
       "        <th>forename</th>\n",
       "        <th>surname</th>\n",
       "        <th>nationality</th>\n",
       "        <th>year</th>\n",
       "        <th>points</th>\n",
       "    </tr>\n",
       "    <tr>\n",
       "        <td>Fernando</td>\n",
       "        <td>Alonso</td>\n",
       "        <td>Spanish</td>\n",
       "        <td>2010</td>\n",
       "        <td>4</td>\n",
       "    </tr>\n",
       "    <tr>\n",
       "        <td>Fernando</td>\n",
       "        <td>Alonso</td>\n",
       "        <td>Spanish</td>\n",
       "        <td>2012</td>\n",
       "        <td>3</td>\n",
       "    </tr>\n",
       "    <tr>\n",
       "        <td>Felipe</td>\n",
       "        <td>Massa</td>\n",
       "        <td>Brazilian</td>\n",
       "        <td>2008</td>\n",
       "        <td>1</td>\n",
       "    </tr>\n",
       "    <tr>\n",
       "        <td>Michael</td>\n",
       "        <td>Schumacher</td>\n",
       "        <td>German</td>\n",
       "        <td>1997</td>\n",
       "        <td>3</td>\n",
       "    </tr>\n",
       "    <tr>\n",
       "        <td>Eddie</td>\n",
       "        <td>Irvine</td>\n",
       "        <td>British</td>\n",
       "        <td>1999</td>\n",
       "        <td>2</td>\n",
       "    </tr>\n",
       "    <tr>\n",
       "        <td>Alain</td>\n",
       "        <td>Prost</td>\n",
       "        <td>French</td>\n",
       "        <td>1990</td>\n",
       "        <td>5</td>\n",
       "    </tr>\n",
       "    <tr>\n",
       "        <td>Niki</td>\n",
       "        <td>Lauda</td>\n",
       "        <td>Austrian</td>\n",
       "        <td>1976</td>\n",
       "        <td>1</td>\n",
       "    </tr>\n",
       "    <tr>\n",
       "        <td>Didier</td>\n",
       "        <td>Pironi</td>\n",
       "        <td>French</td>\n",
       "        <td>1982</td>\n",
       "        <td>5</td>\n",
       "    </tr>\n",
       "    <tr>\n",
       "        <td>Clay</td>\n",
       "        <td>Regazzoni</td>\n",
       "        <td>Swiss</td>\n",
       "        <td>1974</td>\n",
       "        <td>3</td>\n",
       "    </tr>\n",
       "    <tr>\n",
       "        <td>Jacky</td>\n",
       "        <td>Ickx</td>\n",
       "        <td>Belgian</td>\n",
       "        <td>1970</td>\n",
       "        <td>5</td>\n",
       "    </tr>\n",
       "    <tr>\n",
       "        <td>John</td>\n",
       "        <td>Surtees</td>\n",
       "        <td>British</td>\n",
       "        <td>1964</td>\n",
       "        <td>1</td>\n",
       "    </tr>\n",
       "    <tr>\n",
       "        <td>Wolfgang</td>\n",
       "        <td>von Trips</td>\n",
       "        <td>German</td>\n",
       "        <td>1961</td>\n",
       "        <td>5</td>\n",
       "    </tr>\n",
       "</table>"
      ],
      "text/plain": [
       "[('Fernando', 'Alonso', 'Spanish', 2010, 4),\n",
       " ('Fernando', 'Alonso', 'Spanish', 2012, 3),\n",
       " ('Felipe', 'Massa', 'Brazilian', 2008, 1),\n",
       " ('Michael', 'Schumacher', 'German', 1997, 3),\n",
       " ('Eddie', 'Irvine', 'British', 1999, 2),\n",
       " ('Alain', 'Prost', 'French', 1990, 5),\n",
       " ('Niki', 'Lauda', 'Austrian', 1976, 1),\n",
       " ('Didier', 'Pironi', 'French', 1982, 5),\n",
       " ('Clay', 'Regazzoni', 'Swiss', 1974, 3),\n",
       " ('Jacky', 'Ickx', 'Belgian', 1970, 5),\n",
       " ('John', 'Surtees', 'British', 1964, 1),\n",
       " ('Wolfgang', 'von Trips', 'German', 1961, 5)]"
      ]
     },
     "execution_count": 18,
     "metadata": {},
     "output_type": "execute_result"
    }
   ],
   "source": [
    "%%sql\n",
    "\n",
    "-- Similar to the previous query, but instead of finding standings where\n",
    "-- points = MAX(points), find ones where 0 < (points - MAX(points)) <= 5.\n",
    "\n",
    "WITH close_champions(consId, drivId, year, points) AS \n",
    "     (SELECT consId, drivId, \n",
    "             s.year,\n",
    "             ms.points - s.points\n",
    "        FROM standings AS s\n",
    "        JOIN (SELECT year, \n",
    "                     MAX(points) AS points\n",
    "                FROM standings \n",
    "               GROUP BY year) AS ms\n",
    "          ON s.year = ms.year\n",
    "       WHERE s.points <> ms.points\n",
    "         AND ms.points - s.points <= 5)\n",
    "\n",
    "SELECT forename, surname,\n",
    "       d.nationality, \n",
    "       ch.year, points\n",
    "  FROM close_champions AS ch\n",
    "  JOIN constr AS co\n",
    "    ON ch.consId = co.constructorId\n",
    "    \n",
    "  JOIN drivers AS d\n",
    "    ON ch.drivId = d.driverId\n",
    " WHERE co.name = 'Ferrari';"
   ]
  },
  {
   "cell_type": "code",
   "execution_count": 19,
   "metadata": {},
   "outputs": [
    {
     "name": "stdout",
     "output_type": "stream",
     "text": [
      " * sqlite://\n",
      "Done.\n"
     ]
    },
    {
     "data": {
      "text/plain": [
       "[]"
      ]
     },
     "execution_count": 19,
     "metadata": {},
     "output_type": "execute_result"
    }
   ],
   "source": [
    "%%sql\n",
    "\n",
    "-- Now remove the temporary table that was created earlier.\n",
    "\n",
    "DROP TABLE Standings;"
   ]
  },
  {
   "cell_type": "markdown",
   "metadata": {},
   "source": [
    "## Problem 6\n",
    "Find all drivers to win a race before the age of 24."
   ]
  },
  {
   "cell_type": "code",
   "execution_count": 20,
   "metadata": {},
   "outputs": [
    {
     "name": "stdout",
     "output_type": "stream",
     "text": [
      " * sqlite://\n",
      " * sqlite://\n"
     ]
    },
    {
     "data": {
      "text/plain": [
       "(0   1985-01-07\n",
       " 1   1977-05-10\n",
       " 2   1985-06-27\n",
       " 3   1981-07-29\n",
       " 4   1981-10-19\n",
       " Name: dob, dtype: datetime64[ns], 0   2009-03-29\n",
       " 1   2009-04-05\n",
       " 2   2009-04-19\n",
       " 3   2009-04-26\n",
       " 4   2009-05-10\n",
       " Name: date, dtype: datetime64[ns])"
      ]
     },
     "execution_count": 20,
     "metadata": {},
     "output_type": "execute_result"
    }
   ],
   "source": [
    "# Issue: driver's date of birth has a different format than race dates.\n",
    "# We must convert them to the same format. We can do this by reading \n",
    "# the csv files again with the parse_dates argument.\n",
    "\n",
    "ddrivers = load_file('drivers', parse_dates=['dob'])\n",
    "\n",
    "%sql PERSIST ddrivers\n",
    "\n",
    "draces = load_file('races', parse_dates=['date'])\n",
    "\n",
    "%sql PERSIST draces\n",
    "\n",
    "ddrivers['dob'].head(), draces['date'].head()"
   ]
  },
  {
   "cell_type": "code",
   "execution_count": 21,
   "metadata": {},
   "outputs": [
    {
     "name": "stdout",
     "output_type": "stream",
     "text": [
      " * sqlite://\n",
      "Done.\n"
     ]
    },
    {
     "data": {
      "text/html": [
       "<table>\n",
       "    <tr>\n",
       "        <th>forename</th>\n",
       "        <th>surname</th>\n",
       "    </tr>\n",
       "    <tr>\n",
       "        <td>Lewis</td>\n",
       "        <td>Hamilton</td>\n",
       "    </tr>\n",
       "    <tr>\n",
       "        <td>Sebastian</td>\n",
       "        <td>Vettel</td>\n",
       "    </tr>\n",
       "    <tr>\n",
       "        <td>Fernando</td>\n",
       "        <td>Alonso</td>\n",
       "    </tr>\n",
       "    <tr>\n",
       "        <td>Michael</td>\n",
       "        <td>Schumacher</td>\n",
       "    </tr>\n",
       "    <tr>\n",
       "        <td>Jacky</td>\n",
       "        <td>Ickx</td>\n",
       "    </tr>\n",
       "    <tr>\n",
       "        <td>Bruce</td>\n",
       "        <td>McLaren</td>\n",
       "    </tr>\n",
       "    <tr>\n",
       "        <td>Troy</td>\n",
       "        <td>Ruttman</td>\n",
       "    </tr>\n",
       "    <tr>\n",
       "        <td>Max</td>\n",
       "        <td>Verstappen</td>\n",
       "    </tr>\n",
       "</table>"
      ],
      "text/plain": [
       "[('Lewis', 'Hamilton'),\n",
       " ('Sebastian', 'Vettel'),\n",
       " ('Fernando', 'Alonso'),\n",
       " ('Michael', 'Schumacher'),\n",
       " ('Jacky', 'Ickx'),\n",
       " ('Bruce', 'McLaren'),\n",
       " ('Troy', 'Ruttman'),\n",
       " ('Max', 'Verstappen')]"
      ]
     },
     "execution_count": 21,
     "metadata": {},
     "output_type": "execute_result"
    }
   ],
   "source": [
    "%%sql \n",
    "\n",
    "-- Not quite right, we are missing Raikkonen, Kubica, and Fittipaldi\n",
    "-- This could be a rounding error, as these drivers are included in\n",
    "-- the results when date - dob < 25.\n",
    "\n",
    "SELECT DISTINCT forename, surname\n",
    "  FROM results re\n",
    "  JOIN ddrivers d\n",
    "    ON re.driverId = d.driverId\n",
    "    \n",
    "  JOIN draces r\n",
    "    ON re.raceId = r.raceId\n",
    " WHERE position = 1\n",
    "   AND date - dob < 24;"
   ]
  },
  {
   "cell_type": "code",
   "execution_count": 22,
   "metadata": {},
   "outputs": [
    {
     "name": "stdout",
     "output_type": "stream",
     "text": [
      " * sqlite://\n",
      "Done.\n"
     ]
    },
    {
     "data": {
      "text/html": [
       "<table>\n",
       "    <tr>\n",
       "        <th>forename</th>\n",
       "        <th>surname</th>\n",
       "        <th>date</th>\n",
       "        <th>dob</th>\n",
       "    </tr>\n",
       "    <tr>\n",
       "        <td>Bruce</td>\n",
       "        <td>McLaren</td>\n",
       "        <td>1959-12-12 00:00:00.000000</td>\n",
       "        <td>1937-08-30 00:00:00.000000</td>\n",
       "    </tr>\n",
       "    <tr>\n",
       "        <td>David</td>\n",
       "        <td>Coulthard</td>\n",
       "        <td>1995-09-24 00:00:00.000000</td>\n",
       "        <td>1971-03-27 00:00:00.000000</td>\n",
       "    </tr>\n",
       "    <tr>\n",
       "        <td>Elio</td>\n",
       "        <td>de Angelis</td>\n",
       "        <td>1982-08-15 00:00:00.000000</td>\n",
       "        <td>1958-03-26 00:00:00.000000</td>\n",
       "    </tr>\n",
       "    <tr>\n",
       "        <td>Emerson</td>\n",
       "        <td>Fittipaldi</td>\n",
       "        <td>1970-10-04 00:00:00.000000</td>\n",
       "        <td>1946-12-12 00:00:00.000000</td>\n",
       "    </tr>\n",
       "    <tr>\n",
       "        <td>Fernando</td>\n",
       "        <td>Alonso</td>\n",
       "        <td>2003-08-24 00:00:00.000000</td>\n",
       "        <td>1981-07-29 00:00:00.000000</td>\n",
       "    </tr>\n",
       "    <tr>\n",
       "        <td>Jacky</td>\n",
       "        <td>Ickx</td>\n",
       "        <td>1968-07-07 00:00:00.000000</td>\n",
       "        <td>1945-01-01 00:00:00.000000</td>\n",
       "    </tr>\n",
       "    <tr>\n",
       "        <td>Jody</td>\n",
       "        <td>Scheckter</td>\n",
       "        <td>1974-06-09 00:00:00.000000</td>\n",
       "        <td>1950-01-29 00:00:00.000000</td>\n",
       "    </tr>\n",
       "    <tr>\n",
       "        <td>Kimi</td>\n",
       "        <td>Räikkönen</td>\n",
       "        <td>2003-03-23 00:00:00.000000</td>\n",
       "        <td>1979-10-17 00:00:00.000000</td>\n",
       "    </tr>\n",
       "    <tr>\n",
       "        <td>Lewis</td>\n",
       "        <td>Hamilton</td>\n",
       "        <td>2007-06-10 00:00:00.000000</td>\n",
       "        <td>1985-01-07 00:00:00.000000</td>\n",
       "    </tr>\n",
       "    <tr>\n",
       "        <td>Max</td>\n",
       "        <td>Verstappen</td>\n",
       "        <td>2016-05-15 00:00:00.000000</td>\n",
       "        <td>1997-09-30 00:00:00.000000</td>\n",
       "    </tr>\n",
       "    <tr>\n",
       "        <td>Michael</td>\n",
       "        <td>Schumacher</td>\n",
       "        <td>1992-08-30 00:00:00.000000</td>\n",
       "        <td>1969-01-03 00:00:00.000000</td>\n",
       "    </tr>\n",
       "    <tr>\n",
       "        <td>Mike</td>\n",
       "        <td>Hawthorn</td>\n",
       "        <td>1953-07-05 00:00:00.000000</td>\n",
       "        <td>1929-04-10 00:00:00.000000</td>\n",
       "    </tr>\n",
       "    <tr>\n",
       "        <td>Robert</td>\n",
       "        <td>Kubica</td>\n",
       "        <td>2008-06-08 00:00:00.000000</td>\n",
       "        <td>1984-12-07 00:00:00.000000</td>\n",
       "    </tr>\n",
       "    <tr>\n",
       "        <td>Sebastian</td>\n",
       "        <td>Vettel</td>\n",
       "        <td>2008-09-14 00:00:00.000000</td>\n",
       "        <td>1987-07-03 00:00:00.000000</td>\n",
       "    </tr>\n",
       "    <tr>\n",
       "        <td>Troy</td>\n",
       "        <td>Ruttman</td>\n",
       "        <td>1952-05-30 00:00:00.000000</td>\n",
       "        <td>1930-03-11 00:00:00.000000</td>\n",
       "    </tr>\n",
       "</table>"
      ],
      "text/plain": [
       "[('Bruce', 'McLaren', '1959-12-12 00:00:00.000000', '1937-08-30 00:00:00.000000'),\n",
       " ('David', 'Coulthard', '1995-09-24 00:00:00.000000', '1971-03-27 00:00:00.000000'),\n",
       " ('Elio', 'de Angelis', '1982-08-15 00:00:00.000000', '1958-03-26 00:00:00.000000'),\n",
       " ('Emerson', 'Fittipaldi', '1970-10-04 00:00:00.000000', '1946-12-12 00:00:00.000000'),\n",
       " ('Fernando', 'Alonso', '2003-08-24 00:00:00.000000', '1981-07-29 00:00:00.000000'),\n",
       " ('Jacky', 'Ickx', '1968-07-07 00:00:00.000000', '1945-01-01 00:00:00.000000'),\n",
       " ('Jody', 'Scheckter', '1974-06-09 00:00:00.000000', '1950-01-29 00:00:00.000000'),\n",
       " ('Kimi', 'Räikkönen', '2003-03-23 00:00:00.000000', '1979-10-17 00:00:00.000000'),\n",
       " ('Lewis', 'Hamilton', '2007-06-10 00:00:00.000000', '1985-01-07 00:00:00.000000'),\n",
       " ('Max', 'Verstappen', '2016-05-15 00:00:00.000000', '1997-09-30 00:00:00.000000'),\n",
       " ('Michael', 'Schumacher', '1992-08-30 00:00:00.000000', '1969-01-03 00:00:00.000000'),\n",
       " ('Mike', 'Hawthorn', '1953-07-05 00:00:00.000000', '1929-04-10 00:00:00.000000'),\n",
       " ('Robert', 'Kubica', '2008-06-08 00:00:00.000000', '1984-12-07 00:00:00.000000'),\n",
       " ('Sebastian', 'Vettel', '2008-09-14 00:00:00.000000', '1987-07-03 00:00:00.000000'),\n",
       " ('Troy', 'Ruttman', '1952-05-30 00:00:00.000000', '1930-03-11 00:00:00.000000')]"
      ]
     },
     "execution_count": 22,
     "metadata": {},
     "output_type": "execute_result"
    }
   ],
   "source": [
    "%%sql\n",
    "\n",
    "-- Joining the tables in Python then calculating the time delta\n",
    "-- doesn't return the correct results either.\n",
    "\n",
    "-- Idea: Join tables in SQL and compute the time delta in Python.\n",
    "\n",
    "SELECT DISTINCT forename, surname,\n",
    "       MIN(date) AS date, dob\n",
    "  FROM results re\n",
    "  JOIN ddrivers d\n",
    "    ON re.driverId = d.driverId\n",
    "    \n",
    "  JOIN draces r\n",
    "    ON re.raceId = r.raceId\n",
    " WHERE position = 1\n",
    "   AND date - dob < 25\n",
    " GROUP BY forename, surname;"
   ]
  },
  {
   "cell_type": "code",
   "execution_count": 23,
   "metadata": {},
   "outputs": [],
   "source": [
    "# Convert the query results to a DataFrame\n",
    "\n",
    "df = _.DataFrame()"
   ]
  },
  {
   "cell_type": "code",
   "execution_count": 24,
   "metadata": {},
   "outputs": [],
   "source": [
    "# After the convertion 'date' and 'dob' are stored as strings,\n",
    "# so convert them back to datetime format.\n",
    "\n",
    "def convert2time(str):\n",
    "    return datetime.strptime(str[:10], '%Y-%m-%d')\n",
    "\n",
    "df['date'] = df['date'].apply(convert2time)\n",
    "df['dob'] = df['dob'].apply(convert2time)"
   ]
  },
  {
   "cell_type": "code",
   "execution_count": 25,
   "metadata": {},
   "outputs": [],
   "source": [
    "# Finally, calculate the drivers' age when they won the race\n",
    "# and keep all entries where age < 24. \n",
    "\n",
    "df['age'] = df['date'] - df['dob']\n",
    "df = df[df['age'] < timedelta(days=365*24)]\n",
    "\n",
    "df = df[['forename', 'surname']].drop_duplicates()"
   ]
  },
  {
   "cell_type": "code",
   "execution_count": 26,
   "metadata": {},
   "outputs": [
    {
     "data": {
      "text/html": [
       "<div>\n",
       "<style scoped>\n",
       "    .dataframe tbody tr th:only-of-type {\n",
       "        vertical-align: middle;\n",
       "    }\n",
       "\n",
       "    .dataframe tbody tr th {\n",
       "        vertical-align: top;\n",
       "    }\n",
       "\n",
       "    .dataframe thead th {\n",
       "        text-align: right;\n",
       "    }\n",
       "</style>\n",
       "<table border=\"1\" class=\"dataframe\">\n",
       "  <thead>\n",
       "    <tr style=\"text-align: right;\">\n",
       "      <th></th>\n",
       "      <th>forename</th>\n",
       "      <th>surname</th>\n",
       "    </tr>\n",
       "  </thead>\n",
       "  <tbody>\n",
       "    <tr>\n",
       "      <th>0</th>\n",
       "      <td>Bruce</td>\n",
       "      <td>McLaren</td>\n",
       "    </tr>\n",
       "    <tr>\n",
       "      <th>3</th>\n",
       "      <td>Emerson</td>\n",
       "      <td>Fittipaldi</td>\n",
       "    </tr>\n",
       "    <tr>\n",
       "      <th>4</th>\n",
       "      <td>Fernando</td>\n",
       "      <td>Alonso</td>\n",
       "    </tr>\n",
       "    <tr>\n",
       "      <th>5</th>\n",
       "      <td>Jacky</td>\n",
       "      <td>Ickx</td>\n",
       "    </tr>\n",
       "    <tr>\n",
       "      <th>7</th>\n",
       "      <td>Kimi</td>\n",
       "      <td>Räikkönen</td>\n",
       "    </tr>\n",
       "    <tr>\n",
       "      <th>8</th>\n",
       "      <td>Lewis</td>\n",
       "      <td>Hamilton</td>\n",
       "    </tr>\n",
       "    <tr>\n",
       "      <th>9</th>\n",
       "      <td>Max</td>\n",
       "      <td>Verstappen</td>\n",
       "    </tr>\n",
       "    <tr>\n",
       "      <th>10</th>\n",
       "      <td>Michael</td>\n",
       "      <td>Schumacher</td>\n",
       "    </tr>\n",
       "    <tr>\n",
       "      <th>12</th>\n",
       "      <td>Robert</td>\n",
       "      <td>Kubica</td>\n",
       "    </tr>\n",
       "    <tr>\n",
       "      <th>13</th>\n",
       "      <td>Sebastian</td>\n",
       "      <td>Vettel</td>\n",
       "    </tr>\n",
       "    <tr>\n",
       "      <th>14</th>\n",
       "      <td>Troy</td>\n",
       "      <td>Ruttman</td>\n",
       "    </tr>\n",
       "  </tbody>\n",
       "</table>\n",
       "</div>"
      ],
      "text/plain": [
       "     forename     surname\n",
       "0       Bruce     McLaren\n",
       "3     Emerson  Fittipaldi\n",
       "4    Fernando      Alonso\n",
       "5       Jacky        Ickx\n",
       "7        Kimi   Räikkönen\n",
       "8       Lewis    Hamilton\n",
       "9         Max  Verstappen\n",
       "10    Michael  Schumacher\n",
       "12     Robert      Kubica\n",
       "13  Sebastian      Vettel\n",
       "14       Troy     Ruttman"
      ]
     },
     "execution_count": 26,
     "metadata": {},
     "output_type": "execute_result"
    }
   ],
   "source": [
    "df"
   ]
  },
  {
   "cell_type": "markdown",
   "metadata": {},
   "source": [
    "## Problem 7\n",
    "Create a plot of Lewis Hamilton vs Sebastian Vettel in 2017"
   ]
  },
  {
   "cell_type": "code",
   "execution_count": 27,
   "metadata": {},
   "outputs": [
    {
     "name": "stdout",
     "output_type": "stream",
     "text": [
      " * sqlite://\n",
      "Done.\n"
     ]
    },
    {
     "data": {
      "text/html": [
       "<table>\n",
       "    <tr>\n",
       "        <th>surname</th>\n",
       "        <th>points</th>\n",
       "        <th>country</th>\n",
       "    </tr>\n",
       "    <tr>\n",
       "        <td>Hamilton</td>\n",
       "        <td>18.0</td>\n",
       "        <td>Australia</td>\n",
       "    </tr>\n",
       "    <tr>\n",
       "        <td>Vettel</td>\n",
       "        <td>25.0</td>\n",
       "        <td>Australia</td>\n",
       "    </tr>\n",
       "    <tr>\n",
       "        <td>Hamilton</td>\n",
       "        <td>25.0</td>\n",
       "        <td>China</td>\n",
       "    </tr>\n",
       "    <tr>\n",
       "        <td>Vettel</td>\n",
       "        <td>18.0</td>\n",
       "        <td>China</td>\n",
       "    </tr>\n",
       "    <tr>\n",
       "        <td>Hamilton</td>\n",
       "        <td>18.0</td>\n",
       "        <td>Bahrain</td>\n",
       "    </tr>\n",
       "    <tr>\n",
       "        <td>Vettel</td>\n",
       "        <td>25.0</td>\n",
       "        <td>Bahrain</td>\n",
       "    </tr>\n",
       "    <tr>\n",
       "        <td>Hamilton</td>\n",
       "        <td>12.0</td>\n",
       "        <td>Russia</td>\n",
       "    </tr>\n",
       "    <tr>\n",
       "        <td>Vettel</td>\n",
       "        <td>18.0</td>\n",
       "        <td>Russia</td>\n",
       "    </tr>\n",
       "    <tr>\n",
       "        <td>Hamilton</td>\n",
       "        <td>25.0</td>\n",
       "        <td>Spain</td>\n",
       "    </tr>\n",
       "    <tr>\n",
       "        <td>Vettel</td>\n",
       "        <td>18.0</td>\n",
       "        <td>Spain</td>\n",
       "    </tr>\n",
       "    <tr>\n",
       "        <td>Hamilton</td>\n",
       "        <td>6.0</td>\n",
       "        <td>Monaco</td>\n",
       "    </tr>\n",
       "    <tr>\n",
       "        <td>Vettel</td>\n",
       "        <td>25.0</td>\n",
       "        <td>Monaco</td>\n",
       "    </tr>\n",
       "    <tr>\n",
       "        <td>Hamilton</td>\n",
       "        <td>25.0</td>\n",
       "        <td>Canada</td>\n",
       "    </tr>\n",
       "    <tr>\n",
       "        <td>Vettel</td>\n",
       "        <td>12.0</td>\n",
       "        <td>Canada</td>\n",
       "    </tr>\n",
       "    <tr>\n",
       "        <td>Hamilton</td>\n",
       "        <td>10.0</td>\n",
       "        <td>Azerbaijan</td>\n",
       "    </tr>\n",
       "    <tr>\n",
       "        <td>Vettel</td>\n",
       "        <td>12.0</td>\n",
       "        <td>Azerbaijan</td>\n",
       "    </tr>\n",
       "    <tr>\n",
       "        <td>Hamilton</td>\n",
       "        <td>12.0</td>\n",
       "        <td>Austria</td>\n",
       "    </tr>\n",
       "    <tr>\n",
       "        <td>Vettel</td>\n",
       "        <td>18.0</td>\n",
       "        <td>Austria</td>\n",
       "    </tr>\n",
       "    <tr>\n",
       "        <td>Hamilton</td>\n",
       "        <td>25.0</td>\n",
       "        <td>UK</td>\n",
       "    </tr>\n",
       "    <tr>\n",
       "        <td>Vettel</td>\n",
       "        <td>6.0</td>\n",
       "        <td>UK</td>\n",
       "    </tr>\n",
       "    <tr>\n",
       "        <td>Hamilton</td>\n",
       "        <td>12.0</td>\n",
       "        <td>Hungary</td>\n",
       "    </tr>\n",
       "    <tr>\n",
       "        <td>Vettel</td>\n",
       "        <td>25.0</td>\n",
       "        <td>Hungary</td>\n",
       "    </tr>\n",
       "    <tr>\n",
       "        <td>Hamilton</td>\n",
       "        <td>25.0</td>\n",
       "        <td>Belgium</td>\n",
       "    </tr>\n",
       "    <tr>\n",
       "        <td>Vettel</td>\n",
       "        <td>18.0</td>\n",
       "        <td>Belgium</td>\n",
       "    </tr>\n",
       "    <tr>\n",
       "        <td>Hamilton</td>\n",
       "        <td>25.0</td>\n",
       "        <td>Italy</td>\n",
       "    </tr>\n",
       "    <tr>\n",
       "        <td>Vettel</td>\n",
       "        <td>15.0</td>\n",
       "        <td>Italy</td>\n",
       "    </tr>\n",
       "    <tr>\n",
       "        <td>Hamilton</td>\n",
       "        <td>25.0</td>\n",
       "        <td>Singapore</td>\n",
       "    </tr>\n",
       "    <tr>\n",
       "        <td>Vettel</td>\n",
       "        <td>0.0</td>\n",
       "        <td>Singapore</td>\n",
       "    </tr>\n",
       "    <tr>\n",
       "        <td>Hamilton</td>\n",
       "        <td>18.0</td>\n",
       "        <td>Malaysia</td>\n",
       "    </tr>\n",
       "    <tr>\n",
       "        <td>Vettel</td>\n",
       "        <td>12.0</td>\n",
       "        <td>Malaysia</td>\n",
       "    </tr>\n",
       "    <tr>\n",
       "        <td>Hamilton</td>\n",
       "        <td>25.0</td>\n",
       "        <td>Japan</td>\n",
       "    </tr>\n",
       "    <tr>\n",
       "        <td>Vettel</td>\n",
       "        <td>0.0</td>\n",
       "        <td>Japan</td>\n",
       "    </tr>\n",
       "    <tr>\n",
       "        <td>Hamilton</td>\n",
       "        <td>25.0</td>\n",
       "        <td>USA</td>\n",
       "    </tr>\n",
       "    <tr>\n",
       "        <td>Vettel</td>\n",
       "        <td>18.0</td>\n",
       "        <td>USA</td>\n",
       "    </tr>\n",
       "    <tr>\n",
       "        <td>Hamilton</td>\n",
       "        <td>2.0</td>\n",
       "        <td>Mexico</td>\n",
       "    </tr>\n",
       "    <tr>\n",
       "        <td>Vettel</td>\n",
       "        <td>12.0</td>\n",
       "        <td>Mexico</td>\n",
       "    </tr>\n",
       "    <tr>\n",
       "        <td>Hamilton</td>\n",
       "        <td>12.0</td>\n",
       "        <td>Brazil</td>\n",
       "    </tr>\n",
       "    <tr>\n",
       "        <td>Vettel</td>\n",
       "        <td>25.0</td>\n",
       "        <td>Brazil</td>\n",
       "    </tr>\n",
       "    <tr>\n",
       "        <td>Hamilton</td>\n",
       "        <td>18.0</td>\n",
       "        <td>UAE</td>\n",
       "    </tr>\n",
       "    <tr>\n",
       "        <td>Vettel</td>\n",
       "        <td>15.0</td>\n",
       "        <td>UAE</td>\n",
       "    </tr>\n",
       "</table>"
      ],
      "text/plain": [
       "[('Hamilton', 18.0, 'Australia'),\n",
       " ('Vettel', 25.0, 'Australia'),\n",
       " ('Hamilton', 25.0, 'China'),\n",
       " ('Vettel', 18.0, 'China'),\n",
       " ('Hamilton', 18.0, 'Bahrain'),\n",
       " ('Vettel', 25.0, 'Bahrain'),\n",
       " ('Hamilton', 12.0, 'Russia'),\n",
       " ('Vettel', 18.0, 'Russia'),\n",
       " ('Hamilton', 25.0, 'Spain'),\n",
       " ('Vettel', 18.0, 'Spain'),\n",
       " ('Hamilton', 6.0, 'Monaco'),\n",
       " ('Vettel', 25.0, 'Monaco'),\n",
       " ('Hamilton', 25.0, 'Canada'),\n",
       " ('Vettel', 12.0, 'Canada'),\n",
       " ('Hamilton', 10.0, 'Azerbaijan'),\n",
       " ('Vettel', 12.0, 'Azerbaijan'),\n",
       " ('Hamilton', 12.0, 'Austria'),\n",
       " ('Vettel', 18.0, 'Austria'),\n",
       " ('Hamilton', 25.0, 'UK'),\n",
       " ('Vettel', 6.0, 'UK'),\n",
       " ('Hamilton', 12.0, 'Hungary'),\n",
       " ('Vettel', 25.0, 'Hungary'),\n",
       " ('Hamilton', 25.0, 'Belgium'),\n",
       " ('Vettel', 18.0, 'Belgium'),\n",
       " ('Hamilton', 25.0, 'Italy'),\n",
       " ('Vettel', 15.0, 'Italy'),\n",
       " ('Hamilton', 25.0, 'Singapore'),\n",
       " ('Vettel', 0.0, 'Singapore'),\n",
       " ('Hamilton', 18.0, 'Malaysia'),\n",
       " ('Vettel', 12.0, 'Malaysia'),\n",
       " ('Hamilton', 25.0, 'Japan'),\n",
       " ('Vettel', 0.0, 'Japan'),\n",
       " ('Hamilton', 25.0, 'USA'),\n",
       " ('Vettel', 18.0, 'USA'),\n",
       " ('Hamilton', 2.0, 'Mexico'),\n",
       " ('Vettel', 12.0, 'Mexico'),\n",
       " ('Hamilton', 12.0, 'Brazil'),\n",
       " ('Vettel', 25.0, 'Brazil'),\n",
       " ('Hamilton', 18.0, 'UAE'),\n",
       " ('Vettel', 15.0, 'UAE')]"
      ]
     },
     "execution_count": 27,
     "metadata": {},
     "output_type": "execute_result"
    }
   ],
   "source": [
    "%%sql\n",
    "\n",
    "SELECT d.surname, re.points, c.country\n",
    "  FROM races ra\n",
    "  JOIN results re\n",
    "    ON ra.raceId = re.raceId\n",
    "\n",
    "  JOIN drivers d\n",
    "    ON re.driverId = d.driverId\n",
    "    \n",
    "  JOIN circuits c\n",
    "    ON ra.circuitId = c.circuitId\n",
    " WHERE year = 2017\n",
    "  AND (surname = 'Hamilton'\n",
    "       OR surname = 'Vettel');"
   ]
  },
  {
   "cell_type": "code",
   "execution_count": 28,
   "metadata": {},
   "outputs": [],
   "source": [
    "df = _.DataFrame()\n",
    "\n",
    "ham = df[df['surname'] == 'Hamilton'].copy()\n",
    "vet = df[df['surname'] == 'Vettel'].copy()\n",
    "\n",
    "shift = ham.shape[0]\n",
    "\n",
    "ham['points'] = ham['points'].rolling(shift, min_periods=1).sum()\n",
    "vet['points'] = vet['points'].rolling(shift, min_periods=1).sum()"
   ]
  },
  {
   "cell_type": "code",
   "execution_count": 29,
   "metadata": {},
   "outputs": [
    {
     "data": {
      "text/plain": [
       "<matplotlib.legend.Legend at 0x11a2875c0>"
      ]
     },
     "execution_count": 29,
     "metadata": {},
     "output_type": "execute_result"
    },
    {
     "data": {
      "image/png": "[encoded data removed]",
      "text/plain": [
       "<Figure size 864x648 with 1 Axes>"
      ]
     },
     "metadata": {
      "needs_background": "light"
     },
     "output_type": "display_data"
    }
   ],
   "source": [
    "x = ham['country']\n",
    "\n",
    "plt.figure(figsize=(12,9))\n",
    "plt.plot(x, ham['points'], 'c-')\n",
    "plt.plot(x, vet['points'], 'r-')\n",
    "\n",
    "plt.xticks(rotation=30)\n",
    "plt.xlabel('Race')\n",
    "plt.ylabel('Points')\n",
    "plt.title('Hamilton vs Vettel in 2017')\n",
    "plt.legend(['Hamilton', 'Vettel'])"
   ]
  },
  {
   "cell_type": "markdown",
   "metadata": {},
   "source": [
    "## Problem 8\n",
    "Is the avearge duration of pit stops decreasing over time?"
   ]
  },
  {
   "cell_type": "code",
   "execution_count": 30,
   "metadata": {},
   "outputs": [
    {
     "data": {
      "text/html": [
       "<div>\n",
       "<style scoped>\n",
       "    .dataframe tbody tr th:only-of-type {\n",
       "        vertical-align: middle;\n",
       "    }\n",
       "\n",
       "    .dataframe tbody tr th {\n",
       "        vertical-align: top;\n",
       "    }\n",
       "\n",
       "    .dataframe thead th {\n",
       "        text-align: right;\n",
       "    }\n",
       "</style>\n",
       "<table border=\"1\" class=\"dataframe\">\n",
       "  <thead>\n",
       "    <tr style=\"text-align: right;\">\n",
       "      <th></th>\n",
       "      <th>raceId</th>\n",
       "      <th>driverId</th>\n",
       "      <th>stop</th>\n",
       "      <th>lap</th>\n",
       "      <th>duration</th>\n",
       "      <th>milliseconds</th>\n",
       "    </tr>\n",
       "  </thead>\n",
       "  <tbody>\n",
       "    <tr>\n",
       "      <th>count</th>\n",
       "      <td>7146.000000</td>\n",
       "      <td>7146.000000</td>\n",
       "      <td>7146.000000</td>\n",
       "      <td>7146.000000</td>\n",
       "      <td>7146.000000</td>\n",
       "      <td>7.146000e+03</td>\n",
       "    </tr>\n",
       "    <tr>\n",
       "      <th>mean</th>\n",
       "      <td>920.079345</td>\n",
       "      <td>454.580605</td>\n",
       "      <td>1.788553</td>\n",
       "      <td>24.882172</td>\n",
       "      <td>44.845778</td>\n",
       "      <td>4.484578e+04</td>\n",
       "    </tr>\n",
       "    <tr>\n",
       "      <th>std</th>\n",
       "      <td>52.664174</td>\n",
       "      <td>396.774267</td>\n",
       "      <td>0.925912</td>\n",
       "      <td>14.174267</td>\n",
       "      <td>167.780665</td>\n",
       "      <td>1.677807e+05</td>\n",
       "    </tr>\n",
       "    <tr>\n",
       "      <th>min</th>\n",
       "      <td>841.000000</td>\n",
       "      <td>1.000000</td>\n",
       "      <td>1.000000</td>\n",
       "      <td>1.000000</td>\n",
       "      <td>12.897000</td>\n",
       "      <td>1.289700e+04</td>\n",
       "    </tr>\n",
       "    <tr>\n",
       "      <th>25%</th>\n",
       "      <td>873.000000</td>\n",
       "      <td>16.000000</td>\n",
       "      <td>1.000000</td>\n",
       "      <td>13.000000</td>\n",
       "      <td>21.792000</td>\n",
       "      <td>2.179200e+04</td>\n",
       "    </tr>\n",
       "    <tr>\n",
       "      <th>50%</th>\n",
       "      <td>913.000000</td>\n",
       "      <td>807.000000</td>\n",
       "      <td>2.000000</td>\n",
       "      <td>24.000000</td>\n",
       "      <td>23.358000</td>\n",
       "      <td>2.335800e+04</td>\n",
       "    </tr>\n",
       "    <tr>\n",
       "      <th>75%</th>\n",
       "      <td>964.000000</td>\n",
       "      <td>822.000000</td>\n",
       "      <td>2.000000</td>\n",
       "      <td>35.000000</td>\n",
       "      <td>25.565250</td>\n",
       "      <td>2.556525e+04</td>\n",
       "    </tr>\n",
       "    <tr>\n",
       "      <th>max</th>\n",
       "      <td>1020.000000</td>\n",
       "      <td>848.000000</td>\n",
       "      <td>6.000000</td>\n",
       "      <td>74.000000</td>\n",
       "      <td>2011.266000</td>\n",
       "      <td>2.011266e+06</td>\n",
       "    </tr>\n",
       "  </tbody>\n",
       "</table>\n",
       "</div>"
      ],
      "text/plain": [
       "            raceId     driverId         stop          lap     duration  \\\n",
       "count  7146.000000  7146.000000  7146.000000  7146.000000  7146.000000   \n",
       "mean    920.079345   454.580605     1.788553    24.882172    44.845778   \n",
       "std      52.664174   396.774267     0.925912    14.174267   167.780665   \n",
       "min     841.000000     1.000000     1.000000     1.000000    12.897000   \n",
       "25%     873.000000    16.000000     1.000000    13.000000    21.792000   \n",
       "50%     913.000000   807.000000     2.000000    24.000000    23.358000   \n",
       "75%     964.000000   822.000000     2.000000    35.000000    25.565250   \n",
       "max    1020.000000   848.000000     6.000000    74.000000  2011.266000   \n",
       "\n",
       "       milliseconds  \n",
       "count  7.146000e+03  \n",
       "mean   4.484578e+04  \n",
       "std    1.677807e+05  \n",
       "min    1.289700e+04  \n",
       "25%    2.179200e+04  \n",
       "50%    2.335800e+04  \n",
       "75%    2.556525e+04  \n",
       "max    2.011266e+06  "
      ]
     },
     "execution_count": 30,
     "metadata": {},
     "output_type": "execute_result"
    }
   ],
   "source": [
    "# Difficult problem to solve since some data cleaning is required\n",
    "# First problem: raceId is between 841 and 1020, but the 1000th\n",
    "# race actually took place in 2019. Also, the duration of a pit\n",
    "# stop should be around 2 seconds rather than 20. So it makes \n",
    "# sense to divide the duration by 10.\n",
    "\n",
    "pit = load_file('pit_stops')\n",
    "\n",
    "pit['duration'] = pit['milliseconds'] / 1000\n",
    "\n",
    "pit.describe()"
   ]
  },
  {
   "cell_type": "code",
   "execution_count": 31,
   "metadata": {},
   "outputs": [
    {
     "data": {
      "text/plain": [
       "Text(0, 0.5, 'Pit Stop Duration (seconds)')"
      ]
     },
     "execution_count": 31,
     "metadata": {},
     "output_type": "execute_result"
    },
    {
     "data": {
      "image/png": "[encoded data removed]",
      "text/plain": [
       "<Figure size 432x288 with 1 Axes>"
      ]
     },
     "metadata": {
      "needs_background": "light"
     },
     "output_type": "display_data"
    }
   ],
   "source": [
    "# Notice the outliers here, a pit stop should not take more\n",
    "# than a minute. So it makes sense to remove them.\n",
    "\n",
    "pit['duration'] /= 10\n",
    "\n",
    "plt.plot(pit['raceId'], pit['duration'], '.')\n",
    "plt.xlabel('Race Number')\n",
    "plt.ylabel('Pit Stop Duration (seconds)')"
   ]
  },
  {
   "cell_type": "code",
   "execution_count": 32,
   "metadata": {},
   "outputs": [],
   "source": [
    "# Now we can begin working on the data.\n",
    "\n",
    "df = pit[pit['duration'] < 60].copy()\n",
    "\n",
    "df = df.join(races, on='raceId', how='inner', rsuffix='races')\n",
    "df = df.groupby('year').aggregate('mean').reset_index()"
   ]
  },
  {
   "cell_type": "code",
   "execution_count": 33,
   "metadata": {},
   "outputs": [
    {
     "data": {
      "text/plain": [
       "Text(0.5, 1.0, 'Average Pit Stop Duration over Time')"
      ]
     },
     "execution_count": 33,
     "metadata": {},
     "output_type": "execute_result"
    },
    {
     "data": {
      "image/png": "[encoded data removed]",
      "text/plain": [
       "<Figure size 360x360 with 1 Axes>"
      ]
     },
     "metadata": {
      "needs_background": "light"
     },
     "output_type": "display_data"
    }
   ],
   "source": [
    "# Using seaborn, a higher-level plotting library. It seems\n",
    "# like the average pit stop duration is actually increasing.\n",
    "\n",
    "sns.lmplot('year', 'duration', data=df)\n",
    "plt.title('Average Pit Stop Duration over Time')"
   ]
  },
  {
   "cell_type": "code",
   "execution_count": null,
   "metadata": {},
   "outputs": [],
   "source": []
  }
 ],
 "metadata": {
  "kernelspec": {
   "display_name": "Python 3",
   "language": "python",
   "name": "python3"
  },
  "language_info": {
   "codemirror_mode": {
    "name": "ipython",
    "version": 3
   },
   "file_extension": ".py",
   "mimetype": "text/x-python",
   "name": "python",
   "nbconvert_exporter": "python",
   "pygments_lexer": "ipython3",
   "version": "3.7.2"
  }
 },
 "nbformat": 4,
 "nbformat_minor": 2
}
