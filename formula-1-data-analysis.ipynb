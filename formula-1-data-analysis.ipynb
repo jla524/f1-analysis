{
 "cells": [
  {
   "cell_type": "code",
   "execution_count": 1,
   "metadata": {},
   "outputs": [],
   "source": [
    "# Import modules and connect to a database\n",
    "import pandas as pd\n",
    "import matplotlib.pyplot as plt\n",
    "from scipy import stats\n",
    "\n",
    "%load_ext sql\n",
    "%sql sqlite://\n",
    "\n",
    "%matplotlib inline"
   ]
  },
  {
   "cell_type": "code",
   "execution_count": 2,
   "metadata": {
    "scrolled": true
   },
   "outputs": [
    {
     "name": "stdout",
     "output_type": "stream",
     "text": [
      " * sqlite://\n"
     ]
    },
    {
     "data": {
      "text/plain": [
       "'Persisted drivers'"
      ]
     },
     "execution_count": 2,
     "metadata": {},
     "output_type": "execute_result"
    }
   ],
   "source": [
    "# Load the drivers.csv file and create a table\n",
    "drivers = pd.read_csv('formula-1-race-data-19502017/drivers.csv', encoding='ISO-8859-1')\n",
    "%sql PERSIST drivers"
   ]
  },
  {
   "cell_type": "markdown",
   "metadata": {},
   "source": [
    "## Table vs DataFrame\n",
    "Notice the similarities between the two."
   ]
  },
  {
   "cell_type": "code",
   "execution_count": 3,
   "metadata": {
    "scrolled": true
   },
   "outputs": [
    {
     "name": "stdout",
     "output_type": "stream",
     "text": [
      " * sqlite://\n",
      "Done.\n"
     ]
    },
    {
     "data": {
      "text/html": [
       "<table>\n",
       "    <tr>\n",
       "        <th>index</th>\n",
       "        <th>driverId</th>\n",
       "        <th>driverRef</th>\n",
       "        <th>number</th>\n",
       "        <th>code</th>\n",
       "        <th>forename</th>\n",
       "        <th>surname</th>\n",
       "        <th>dob</th>\n",
       "        <th>nationality</th>\n",
       "        <th>url</th>\n",
       "    </tr>\n",
       "    <tr>\n",
       "        <td>0</td>\n",
       "        <td>1</td>\n",
       "        <td>hamilton</td>\n",
       "        <td>44.0</td>\n",
       "        <td>HAM</td>\n",
       "        <td>Lewis</td>\n",
       "        <td>Hamilton</td>\n",
       "        <td>07/01/1985</td>\n",
       "        <td>British</td>\n",
       "        <td>http://en.wikipedia.org/wiki/Lewis_Hamilton</td>\n",
       "    </tr>\n",
       "    <tr>\n",
       "        <td>1</td>\n",
       "        <td>2</td>\n",
       "        <td>heidfeld</td>\n",
       "        <td>None</td>\n",
       "        <td>HEI</td>\n",
       "        <td>Nick</td>\n",
       "        <td>Heidfeld</td>\n",
       "        <td>10/05/1977</td>\n",
       "        <td>German</td>\n",
       "        <td>http://en.wikipedia.org/wiki/Nick_Heidfeld</td>\n",
       "    </tr>\n",
       "    <tr>\n",
       "        <td>2</td>\n",
       "        <td>3</td>\n",
       "        <td>rosberg</td>\n",
       "        <td>6.0</td>\n",
       "        <td>ROS</td>\n",
       "        <td>Nico</td>\n",
       "        <td>Rosberg</td>\n",
       "        <td>27/06/1985</td>\n",
       "        <td>German</td>\n",
       "        <td>http://en.wikipedia.org/wiki/Nico_Rosberg</td>\n",
       "    </tr>\n",
       "    <tr>\n",
       "        <td>3</td>\n",
       "        <td>4</td>\n",
       "        <td>alonso</td>\n",
       "        <td>14.0</td>\n",
       "        <td>ALO</td>\n",
       "        <td>Fernando</td>\n",
       "        <td>Alonso</td>\n",
       "        <td>29/07/1981</td>\n",
       "        <td>Spanish</td>\n",
       "        <td>http://en.wikipedia.org/wiki/Fernando_Alonso</td>\n",
       "    </tr>\n",
       "    <tr>\n",
       "        <td>4</td>\n",
       "        <td>5</td>\n",
       "        <td>kovalainen</td>\n",
       "        <td>None</td>\n",
       "        <td>KOV</td>\n",
       "        <td>Heikki</td>\n",
       "        <td>Kovalainen</td>\n",
       "        <td>19/10/1981</td>\n",
       "        <td>Finnish</td>\n",
       "        <td>http://en.wikipedia.org/wiki/Heikki_Kovalainen</td>\n",
       "    </tr>\n",
       "</table>"
      ],
      "text/plain": [
       "[(0, 1, 'hamilton', 44.0, 'HAM', 'Lewis', 'Hamilton', '07/01/1985', 'British', 'http://en.wikipedia.org/wiki/Lewis_Hamilton'),\n",
       " (1, 2, 'heidfeld', None, 'HEI', 'Nick', 'Heidfeld', '10/05/1977', 'German', 'http://en.wikipedia.org/wiki/Nick_Heidfeld'),\n",
       " (2, 3, 'rosberg', 6.0, 'ROS', 'Nico', 'Rosberg', '27/06/1985', 'German', 'http://en.wikipedia.org/wiki/Nico_Rosberg'),\n",
       " (3, 4, 'alonso', 14.0, 'ALO', 'Fernando', 'Alonso', '29/07/1981', 'Spanish', 'http://en.wikipedia.org/wiki/Fernando_Alonso'),\n",
       " (4, 5, 'kovalainen', None, 'KOV', 'Heikki', 'Kovalainen', '19/10/1981', 'Finnish', 'http://en.wikipedia.org/wiki/Heikki_Kovalainen')]"
      ]
     },
     "execution_count": 3,
     "metadata": {},
     "output_type": "execute_result"
    }
   ],
   "source": [
    "%sql SELECT * FROM drivers LIMIT 5;"
   ]
  },
  {
   "cell_type": "code",
   "execution_count": 4,
   "metadata": {},
   "outputs": [
    {
     "data": {
      "text/html": [
       "<div>\n",
       "<style scoped>\n",
       "    .dataframe tbody tr th:only-of-type {\n",
       "        vertical-align: middle;\n",
       "    }\n",
       "\n",
       "    .dataframe tbody tr th {\n",
       "        vertical-align: top;\n",
       "    }\n",
       "\n",
       "    .dataframe thead th {\n",
       "        text-align: right;\n",
       "    }\n",
       "</style>\n",
       "<table border=\"1\" class=\"dataframe\">\n",
       "  <thead>\n",
       "    <tr style=\"text-align: right;\">\n",
       "      <th></th>\n",
       "      <th>driverId</th>\n",
       "      <th>driverRef</th>\n",
       "      <th>number</th>\n",
       "      <th>code</th>\n",
       "      <th>forename</th>\n",
       "      <th>surname</th>\n",
       "      <th>dob</th>\n",
       "      <th>nationality</th>\n",
       "      <th>url</th>\n",
       "    </tr>\n",
       "  </thead>\n",
       "  <tbody>\n",
       "    <tr>\n",
       "      <th>0</th>\n",
       "      <td>1</td>\n",
       "      <td>hamilton</td>\n",
       "      <td>44.0</td>\n",
       "      <td>HAM</td>\n",
       "      <td>Lewis</td>\n",
       "      <td>Hamilton</td>\n",
       "      <td>07/01/1985</td>\n",
       "      <td>British</td>\n",
       "      <td>http://en.wikipedia.org/wiki/Lewis_Hamilton</td>\n",
       "    </tr>\n",
       "    <tr>\n",
       "      <th>1</th>\n",
       "      <td>2</td>\n",
       "      <td>heidfeld</td>\n",
       "      <td>NaN</td>\n",
       "      <td>HEI</td>\n",
       "      <td>Nick</td>\n",
       "      <td>Heidfeld</td>\n",
       "      <td>10/05/1977</td>\n",
       "      <td>German</td>\n",
       "      <td>http://en.wikipedia.org/wiki/Nick_Heidfeld</td>\n",
       "    </tr>\n",
       "    <tr>\n",
       "      <th>2</th>\n",
       "      <td>3</td>\n",
       "      <td>rosberg</td>\n",
       "      <td>6.0</td>\n",
       "      <td>ROS</td>\n",
       "      <td>Nico</td>\n",
       "      <td>Rosberg</td>\n",
       "      <td>27/06/1985</td>\n",
       "      <td>German</td>\n",
       "      <td>http://en.wikipedia.org/wiki/Nico_Rosberg</td>\n",
       "    </tr>\n",
       "    <tr>\n",
       "      <th>3</th>\n",
       "      <td>4</td>\n",
       "      <td>alonso</td>\n",
       "      <td>14.0</td>\n",
       "      <td>ALO</td>\n",
       "      <td>Fernando</td>\n",
       "      <td>Alonso</td>\n",
       "      <td>29/07/1981</td>\n",
       "      <td>Spanish</td>\n",
       "      <td>http://en.wikipedia.org/wiki/Fernando_Alonso</td>\n",
       "    </tr>\n",
       "    <tr>\n",
       "      <th>4</th>\n",
       "      <td>5</td>\n",
       "      <td>kovalainen</td>\n",
       "      <td>NaN</td>\n",
       "      <td>KOV</td>\n",
       "      <td>Heikki</td>\n",
       "      <td>Kovalainen</td>\n",
       "      <td>19/10/1981</td>\n",
       "      <td>Finnish</td>\n",
       "      <td>http://en.wikipedia.org/wiki/Heikki_Kovalainen</td>\n",
       "    </tr>\n",
       "  </tbody>\n",
       "</table>\n",
       "</div>"
      ],
      "text/plain": [
       "   driverId   driverRef  number code  forename     surname         dob  \\\n",
       "0         1    hamilton    44.0  HAM     Lewis    Hamilton  07/01/1985   \n",
       "1         2    heidfeld     NaN  HEI      Nick    Heidfeld  10/05/1977   \n",
       "2         3     rosberg     6.0  ROS      Nico     Rosberg  27/06/1985   \n",
       "3         4      alonso    14.0  ALO  Fernando      Alonso  29/07/1981   \n",
       "4         5  kovalainen     NaN  KOV    Heikki  Kovalainen  19/10/1981   \n",
       "\n",
       "  nationality                                             url  \n",
       "0     British     http://en.wikipedia.org/wiki/Lewis_Hamilton  \n",
       "1      German      http://en.wikipedia.org/wiki/Nick_Heidfeld  \n",
       "2      German       http://en.wikipedia.org/wiki/Nico_Rosberg  \n",
       "3     Spanish    http://en.wikipedia.org/wiki/Fernando_Alonso  \n",
       "4     Finnish  http://en.wikipedia.org/wiki/Heikki_Kovalainen  "
      ]
     },
     "execution_count": 4,
     "metadata": {},
     "output_type": "execute_result"
    }
   ],
   "source": [
    "drivers.head()"
   ]
  },
  {
   "cell_type": "markdown",
   "metadata": {},
   "source": [
    "## Problem 1\n",
    "Find all Spanish drivers who were born after 1980. \n",
    "\n",
    "The \"dob\" column contains a string, so we can take a sub-string and compare it with '1980'."
   ]
  },
  {
   "cell_type": "code",
   "execution_count": 5,
   "metadata": {},
   "outputs": [
    {
     "name": "stdout",
     "output_type": "stream",
     "text": [
      " * sqlite://\n",
      "Done.\n"
     ]
    },
    {
     "data": {
      "text/html": [
       "<table>\n",
       "    <tr>\n",
       "        <th>forename</th>\n",
       "        <th>surname</th>\n",
       "        <th>birthdate</th>\n",
       "    </tr>\n",
       "    <tr>\n",
       "        <td>Fernando</td>\n",
       "        <td>Alonso</td>\n",
       "        <td>29/07/1981</td>\n",
       "    </tr>\n",
       "    <tr>\n",
       "        <td>Jaime</td>\n",
       "        <td>Alguersuari</td>\n",
       "        <td>23/03/1990</td>\n",
       "    </tr>\n",
       "    <tr>\n",
       "        <td>Carlos</td>\n",
       "        <td>Sainz</td>\n",
       "        <td>01/09/1994</td>\n",
       "    </tr>\n",
       "    <tr>\n",
       "        <td>Roberto</td>\n",
       "        <td>Merhi</td>\n",
       "        <td>22/03/1991</td>\n",
       "    </tr>\n",
       "</table>"
      ],
      "text/plain": [
       "[('Fernando', 'Alonso', '29/07/1981'),\n",
       " ('Jaime', 'Alguersuari', '23/03/1990'),\n",
       " ('Carlos', 'Sainz', '01/09/1994'),\n",
       " ('Roberto', 'Merhi', '22/03/1991')]"
      ]
     },
     "execution_count": 5,
     "metadata": {},
     "output_type": "execute_result"
    }
   ],
   "source": [
    "%%sql\n",
    "\n",
    "-- The substring dob[7:] is equivalent to year.\n",
    "\n",
    "SELECT forename, surname, \n",
    "       dob AS birthdate\n",
    "  FROM drivers \n",
    " WHERE nationality = 'Spanish' \n",
    "   AND substr(dob,7) > '1980';"
   ]
  },
  {
   "cell_type": "markdown",
   "metadata": {},
   "source": [
    "## Problem 2\n",
    "Find the number of drivers for each nationality.\n",
    "\n",
    "Remove entries where count <= 10 and create a bar plot."
   ]
  },
  {
   "cell_type": "code",
   "execution_count": 6,
   "metadata": {},
   "outputs": [
    {
     "name": "stdout",
     "output_type": "stream",
     "text": [
      " * sqlite://\n",
      "Done.\n"
     ]
    },
    {
     "data": {
      "text/html": [
       "<table>\n",
       "    <tr>\n",
       "        <th>nationality</th>\n",
       "        <th>count</th>\n",
       "    </tr>\n",
       "    <tr>\n",
       "        <td>American</td>\n",
       "        <td>157</td>\n",
       "    </tr>\n",
       "    <tr>\n",
       "        <td>Argentine</td>\n",
       "        <td>24</td>\n",
       "    </tr>\n",
       "    <tr>\n",
       "        <td>Australian</td>\n",
       "        <td>17</td>\n",
       "    </tr>\n",
       "    <tr>\n",
       "        <td>Austrian</td>\n",
       "        <td>15</td>\n",
       "    </tr>\n",
       "    <tr>\n",
       "        <td>Belgian</td>\n",
       "        <td>23</td>\n",
       "    </tr>\n",
       "    <tr>\n",
       "        <td>Brazilian</td>\n",
       "        <td>31</td>\n",
       "    </tr>\n",
       "    <tr>\n",
       "        <td>British</td>\n",
       "        <td>162</td>\n",
       "    </tr>\n",
       "    <tr>\n",
       "        <td>Canadian</td>\n",
       "        <td>13</td>\n",
       "    </tr>\n",
       "    <tr>\n",
       "        <td>Dutch</td>\n",
       "        <td>17</td>\n",
       "    </tr>\n",
       "    <tr>\n",
       "        <td>French</td>\n",
       "        <td>73</td>\n",
       "    </tr>\n",
       "    <tr>\n",
       "        <td>German</td>\n",
       "        <td>49</td>\n",
       "    </tr>\n",
       "    <tr>\n",
       "        <td>Italian</td>\n",
       "        <td>99</td>\n",
       "    </tr>\n",
       "    <tr>\n",
       "        <td>Japanese</td>\n",
       "        <td>19</td>\n",
       "    </tr>\n",
       "    <tr>\n",
       "        <td>South African</td>\n",
       "        <td>23</td>\n",
       "    </tr>\n",
       "    <tr>\n",
       "        <td>Spanish</td>\n",
       "        <td>15</td>\n",
       "    </tr>\n",
       "    <tr>\n",
       "        <td>Swiss</td>\n",
       "        <td>23</td>\n",
       "    </tr>\n",
       "</table>"
      ],
      "text/plain": [
       "[('American', 157),\n",
       " ('Argentine', 24),\n",
       " ('Australian', 17),\n",
       " ('Austrian', 15),\n",
       " ('Belgian', 23),\n",
       " ('Brazilian', 31),\n",
       " ('British', 162),\n",
       " ('Canadian', 13),\n",
       " ('Dutch', 17),\n",
       " ('French', 73),\n",
       " ('German', 49),\n",
       " ('Italian', 99),\n",
       " ('Japanese', 19),\n",
       " ('South African', 23),\n",
       " ('Spanish', 15),\n",
       " ('Swiss', 23)]"
      ]
     },
     "execution_count": 6,
     "metadata": {},
     "output_type": "execute_result"
    }
   ],
   "source": [
    "%%sql \n",
    "\n",
    "SELECT nationality, count\n",
    "  FROM (SELECT nationality, \n",
    "               COUNT(*) AS count \n",
    "          FROM drivers \n",
    "         GROUP BY nationality) \n",
    " WHERE count > 10;"
   ]
  },
  {
   "cell_type": "code",
   "execution_count": 7,
   "metadata": {},
   "outputs": [
    {
     "data": {
      "image/png": "[encoded data removed]",
      "text/plain": [
       "<Figure size 432x288 with 1 Axes>"
      ]
     },
     "metadata": {
      "needs_background": "light"
     },
     "output_type": "display_data"
    }
   ],
   "source": [
    "# Create a bar graph from the query result\n",
    "_.bar();"
   ]
  },
  {
   "cell_type": "markdown",
   "metadata": {},
   "source": [
    "## Problem 3\n",
    "Find the most successful constructors in F1 by race wins and create a pie chart."
   ]
  },
  {
   "cell_type": "code",
   "execution_count": 8,
   "metadata": {},
   "outputs": [
    {
     "name": "stdout",
     "output_type": "stream",
     "text": [
      " * sqlite://\n",
      " * sqlite://\n"
     ]
    },
    {
     "data": {
      "text/plain": [
       "'Persisted results'"
      ]
     },
     "execution_count": 8,
     "metadata": {},
     "output_type": "execute_result"
    }
   ],
   "source": [
    "# Load two more tables\n",
    "constr = pd.read_csv('formula-1-race-data-19502017/constructors.csv', encoding='ISO-8859-1')\n",
    "%sql PERSIST constr\n",
    "\n",
    "results = pd.read_csv('formula-1-race-data-19502017/results.csv', encoding='ISO-8859-1')\n",
    "%sql PERSIST results"
   ]
  },
  {
   "cell_type": "code",
   "execution_count": 9,
   "metadata": {},
   "outputs": [
    {
     "name": "stdout",
     "output_type": "stream",
     "text": [
      " * sqlite://\n",
      "Done.\n"
     ]
    },
    {
     "data": {
      "text/html": [
       "<table>\n",
       "    <tr>\n",
       "        <th>name</th>\n",
       "        <th>count</th>\n",
       "    </tr>\n",
       "    <tr>\n",
       "        <td>Ferrari</td>\n",
       "        <td>230</td>\n",
       "    </tr>\n",
       "    <tr>\n",
       "        <td>McLaren</td>\n",
       "        <td>178</td>\n",
       "    </tr>\n",
       "    <tr>\n",
       "        <td>Williams</td>\n",
       "        <td>114</td>\n",
       "    </tr>\n",
       "    <tr>\n",
       "        <td>Mercedes</td>\n",
       "        <td>76</td>\n",
       "    </tr>\n",
       "    <tr>\n",
       "        <td>Red Bull</td>\n",
       "        <td>55</td>\n",
       "    </tr>\n",
       "    <tr>\n",
       "        <td>Team Lotus</td>\n",
       "        <td>45</td>\n",
       "    </tr>\n",
       "    <tr>\n",
       "        <td>Renault</td>\n",
       "        <td>35</td>\n",
       "    </tr>\n",
       "    <tr>\n",
       "        <td>Benetton</td>\n",
       "        <td>27</td>\n",
       "    </tr>\n",
       "    <tr>\n",
       "        <td>Tyrrell</td>\n",
       "        <td>23</td>\n",
       "    </tr>\n",
       "    <tr>\n",
       "        <td>Brabham</td>\n",
       "        <td>23</td>\n",
       "    </tr>\n",
       "</table>"
      ],
      "text/plain": [
       "[('Ferrari', 230),\n",
       " ('McLaren', 178),\n",
       " ('Williams', 114),\n",
       " ('Mercedes', 76),\n",
       " ('Red Bull', 55),\n",
       " ('Team Lotus', 45),\n",
       " ('Renault', 35),\n",
       " ('Benetton', 27),\n",
       " ('Tyrrell', 23),\n",
       " ('Brabham', 23)]"
      ]
     },
     "execution_count": 9,
     "metadata": {},
     "output_type": "execute_result"
    }
   ],
   "source": [
    "%%sql\n",
    "\n",
    "-- Find the total number of race wins for each constructor.\n",
    "-- Only keep the top 10, this makes it easier to view the pie chart.\n",
    "-- A win here means position = 1.\n",
    "\n",
    "SELECT name, COUNT(*) AS count\n",
    "  FROM results AS r\n",
    "       JOIN constr AS c\n",
    "       ON r.constructorId = c.constructorId\n",
    " WHERE position = 1\n",
    " GROUP BY r.constructorId\n",
    " ORDER BY count DESC\n",
    " LIMIT 10;"
   ]
  },
  {
   "cell_type": "code",
   "execution_count": 10,
   "metadata": {},
   "outputs": [],
   "source": [
    "# We can do the same with Pandas to verify the results\n",
    "df = results[results['position'] == 1]\n",
    "df = df.groupby('constructorId').agg('count')\n",
    "df = df.join(constr.set_index('constructorId'))"
   ]
  },
  {
   "cell_type": "code",
   "execution_count": 11,
   "metadata": {},
   "outputs": [
    {
     "data": {
      "text/html": [
       "<div>\n",
       "<style scoped>\n",
       "    .dataframe tbody tr th:only-of-type {\n",
       "        vertical-align: middle;\n",
       "    }\n",
       "\n",
       "    .dataframe tbody tr th {\n",
       "        vertical-align: top;\n",
       "    }\n",
       "\n",
       "    .dataframe thead th {\n",
       "        text-align: right;\n",
       "    }\n",
       "</style>\n",
       "<table border=\"1\" class=\"dataframe\">\n",
       "  <thead>\n",
       "    <tr style=\"text-align: right;\">\n",
       "      <th></th>\n",
       "      <th>name</th>\n",
       "      <th>resultId</th>\n",
       "    </tr>\n",
       "    <tr>\n",
       "      <th>constructorId</th>\n",
       "      <th></th>\n",
       "      <th></th>\n",
       "    </tr>\n",
       "  </thead>\n",
       "  <tbody>\n",
       "    <tr>\n",
       "      <th>6</th>\n",
       "      <td>Ferrari</td>\n",
       "      <td>230</td>\n",
       "    </tr>\n",
       "    <tr>\n",
       "      <th>1</th>\n",
       "      <td>McLaren</td>\n",
       "      <td>178</td>\n",
       "    </tr>\n",
       "    <tr>\n",
       "      <th>3</th>\n",
       "      <td>Williams</td>\n",
       "      <td>114</td>\n",
       "    </tr>\n",
       "    <tr>\n",
       "      <th>131</th>\n",
       "      <td>Mercedes</td>\n",
       "      <td>76</td>\n",
       "    </tr>\n",
       "    <tr>\n",
       "      <th>9</th>\n",
       "      <td>Red Bull</td>\n",
       "      <td>55</td>\n",
       "    </tr>\n",
       "    <tr>\n",
       "      <th>32</th>\n",
       "      <td>Team Lotus</td>\n",
       "      <td>45</td>\n",
       "    </tr>\n",
       "    <tr>\n",
       "      <th>4</th>\n",
       "      <td>Renault</td>\n",
       "      <td>35</td>\n",
       "    </tr>\n",
       "    <tr>\n",
       "      <th>22</th>\n",
       "      <td>Benetton</td>\n",
       "      <td>27</td>\n",
       "    </tr>\n",
       "    <tr>\n",
       "      <th>25</th>\n",
       "      <td>Tyrrell</td>\n",
       "      <td>23</td>\n",
       "    </tr>\n",
       "    <tr>\n",
       "      <th>34</th>\n",
       "      <td>Brabham</td>\n",
       "      <td>23</td>\n",
       "    </tr>\n",
       "  </tbody>\n",
       "</table>\n",
       "</div>"
      ],
      "text/plain": [
       "                     name  resultId\n",
       "constructorId                      \n",
       "6                 Ferrari       230\n",
       "1                 McLaren       178\n",
       "3                Williams       114\n",
       "131              Mercedes        76\n",
       "9                Red Bull        55\n",
       "32             Team Lotus        45\n",
       "4                 Renault        35\n",
       "22               Benetton        27\n",
       "25                Tyrrell        23\n",
       "34                Brabham        23"
      ]
     },
     "execution_count": 11,
     "metadata": {},
     "output_type": "execute_result"
    }
   ],
   "source": [
    "# Both methods produced the same result, but which one is easier to read?\n",
    "df = df[['name', 'resultId']].sort_values('resultId', ascending=False)\n",
    "df = df.head(10)\n",
    "df"
   ]
  },
  {
   "cell_type": "code",
   "execution_count": 12,
   "metadata": {},
   "outputs": [
    {
     "data": {
      "image/png": "[encoded data removed]",
      "text/plain": [
       "<Figure size 432x288 with 1 Axes>"
      ]
     },
     "metadata": {},
     "output_type": "display_data"
    }
   ],
   "source": [
    "'''\n",
    "Now we can produce a pie chart using the DataFrame.\n",
    "Since Matplotlib allows us to specify colors in the pie chart, let's\n",
    "find the colors that represent these teams.\n",
    "\n",
    "Credits to www.f1colours.com and\n",
    "www.reddit.com/r/formula1/comments/arxt0r/f1_2019_team_colors_hex_codes/\n",
    "for the team colors.\n",
    "'''\n",
    "\n",
    "colors = ['#DC0000', '#FF8700', '#FFFFFF', '#00D2BE', '#1E41FF', \n",
    "          '#FFF500', '#FFDF00', '#00BFFF', '#006400', '#00008B']\n",
    "\n",
    "plt.pie(df['resultId'], labels=df['name'], colors=colors, shadow=True);"
   ]
  },
  {
   "cell_type": "markdown",
   "metadata": {},
   "source": [
    "## Problem 4\n",
    "Find the most successful constructors in F1 by win rate."
   ]
  },
  {
   "cell_type": "code",
   "execution_count": 13,
   "metadata": {},
   "outputs": [
    {
     "name": "stdout",
     "output_type": "stream",
     "text": [
      " * sqlite://\n",
      "Done.\n"
     ]
    },
    {
     "data": {
      "text/html": [
       "<table>\n",
       "    <tr>\n",
       "        <th>name</th>\n",
       "        <th>win_rate</th>\n",
       "    </tr>\n",
       "    <tr>\n",
       "        <td>Brawn</td>\n",
       "        <td>0.235</td>\n",
       "    </tr>\n",
       "    <tr>\n",
       "        <td>Matra-Ford</td>\n",
       "        <td>0.225</td>\n",
       "    </tr>\n",
       "    <tr>\n",
       "        <td>Mercedes</td>\n",
       "        <td>0.215</td>\n",
       "    </tr>\n",
       "    <tr>\n",
       "        <td>Vanwall</td>\n",
       "        <td>0.141</td>\n",
       "    </tr>\n",
       "    <tr>\n",
       "        <td>Watson</td>\n",
       "        <td>0.136</td>\n",
       "    </tr>\n",
       "    <tr>\n",
       "        <td>Epperly</td>\n",
       "        <td>0.118</td>\n",
       "    </tr>\n",
       "    <tr>\n",
       "        <td>Red Bull</td>\n",
       "        <td>0.112</td>\n",
       "    </tr>\n",
       "    <tr>\n",
       "        <td>McLaren</td>\n",
       "        <td>0.11</td>\n",
       "    </tr>\n",
       "    <tr>\n",
       "        <td>Ferrari</td>\n",
       "        <td>0.107</td>\n",
       "    </tr>\n",
       "    <tr>\n",
       "        <td>Brabham-Repco</td>\n",
       "        <td>0.104</td>\n",
       "    </tr>\n",
       "</table>"
      ],
      "text/plain": [
       "[('Brawn', 0.235),\n",
       " ('Matra-Ford', 0.225),\n",
       " ('Mercedes', 0.215),\n",
       " ('Vanwall', 0.141),\n",
       " ('Watson', 0.136),\n",
       " ('Epperly', 0.118),\n",
       " ('Red Bull', 0.112),\n",
       " ('McLaren', 0.11),\n",
       " ('Ferrari', 0.107),\n",
       " ('Brabham-Repco', 0.104)]"
      ]
     },
     "execution_count": 13,
     "metadata": {},
     "output_type": "execute_result"
    }
   ],
   "source": [
    "%%sql \n",
    "\n",
    "-- Similar to the previous query, first find the number of race wins\n",
    "-- Then compute the number of race entries and divide\n",
    "\n",
    "WITH race_wins(consId, wins) AS \n",
    "     (SELECT constructorId, COUNT(*)\n",
    "        FROM results\n",
    "       WHERE position = 1\n",
    "       GROUP BY constructorId)\n",
    "\n",
    "\n",
    "SELECT name, \n",
    "       ROUND(1.0 * W.wins / COUNT(*), 3) AS win_rate\n",
    "  FROM constr AS c\n",
    "       JOIN results AS r\n",
    "       ON c.constructorId = r.constructorId\n",
    "        \n",
    "       JOIN race_wins AS w\n",
    "       ON r.constructorId = w.consId\n",
    " GROUP BY r.constructorId\n",
    " ORDER BY win_rate DESC\n",
    " LIMIT 10;"
   ]
  },
  {
   "cell_type": "markdown",
   "metadata": {},
   "source": [
    "## Problem 5\n",
    "Is the number of races each season increasing?"
   ]
  },
  {
   "cell_type": "code",
   "execution_count": 14,
   "metadata": {},
   "outputs": [
    {
     "name": "stdout",
     "output_type": "stream",
     "text": [
      " * sqlite://\n"
     ]
    },
    {
     "data": {
      "text/html": [
       "<div>\n",
       "<style scoped>\n",
       "    .dataframe tbody tr th:only-of-type {\n",
       "        vertical-align: middle;\n",
       "    }\n",
       "\n",
       "    .dataframe tbody tr th {\n",
       "        vertical-align: top;\n",
       "    }\n",
       "\n",
       "    .dataframe thead th {\n",
       "        text-align: right;\n",
       "    }\n",
       "</style>\n",
       "<table border=\"1\" class=\"dataframe\">\n",
       "  <thead>\n",
       "    <tr style=\"text-align: right;\">\n",
       "      <th></th>\n",
       "      <th>raceId</th>\n",
       "      <th>year</th>\n",
       "      <th>round</th>\n",
       "      <th>circuitId</th>\n",
       "      <th>name</th>\n",
       "      <th>date</th>\n",
       "      <th>time</th>\n",
       "      <th>url</th>\n",
       "    </tr>\n",
       "  </thead>\n",
       "  <tbody>\n",
       "    <tr>\n",
       "      <th>0</th>\n",
       "      <td>1</td>\n",
       "      <td>2009</td>\n",
       "      <td>1</td>\n",
       "      <td>1</td>\n",
       "      <td>Australian Grand Prix</td>\n",
       "      <td>2009-03-29</td>\n",
       "      <td>06:00:00</td>\n",
       "      <td>http://en.wikipedia.org/wiki/2009_Australian_G...</td>\n",
       "    </tr>\n",
       "    <tr>\n",
       "      <th>1</th>\n",
       "      <td>2</td>\n",
       "      <td>2009</td>\n",
       "      <td>2</td>\n",
       "      <td>2</td>\n",
       "      <td>Malaysian Grand Prix</td>\n",
       "      <td>2009-04-05</td>\n",
       "      <td>09:00:00</td>\n",
       "      <td>http://en.wikipedia.org/wiki/2009_Malaysian_Gr...</td>\n",
       "    </tr>\n",
       "    <tr>\n",
       "      <th>2</th>\n",
       "      <td>3</td>\n",
       "      <td>2009</td>\n",
       "      <td>3</td>\n",
       "      <td>17</td>\n",
       "      <td>Chinese Grand Prix</td>\n",
       "      <td>2009-04-19</td>\n",
       "      <td>07:00:00</td>\n",
       "      <td>http://en.wikipedia.org/wiki/2009_Chinese_Gran...</td>\n",
       "    </tr>\n",
       "    <tr>\n",
       "      <th>3</th>\n",
       "      <td>4</td>\n",
       "      <td>2009</td>\n",
       "      <td>4</td>\n",
       "      <td>3</td>\n",
       "      <td>Bahrain Grand Prix</td>\n",
       "      <td>2009-04-26</td>\n",
       "      <td>12:00:00</td>\n",
       "      <td>http://en.wikipedia.org/wiki/2009_Bahrain_Gran...</td>\n",
       "    </tr>\n",
       "    <tr>\n",
       "      <th>4</th>\n",
       "      <td>5</td>\n",
       "      <td>2009</td>\n",
       "      <td>5</td>\n",
       "      <td>4</td>\n",
       "      <td>Spanish Grand Prix</td>\n",
       "      <td>2009-05-10</td>\n",
       "      <td>12:00:00</td>\n",
       "      <td>http://en.wikipedia.org/wiki/2009_Spanish_Gran...</td>\n",
       "    </tr>\n",
       "  </tbody>\n",
       "</table>\n",
       "</div>"
      ],
      "text/plain": [
       "   raceId  year  round  circuitId                   name        date  \\\n",
       "0       1  2009      1          1  Australian Grand Prix  2009-03-29   \n",
       "1       2  2009      2          2   Malaysian Grand Prix  2009-04-05   \n",
       "2       3  2009      3         17     Chinese Grand Prix  2009-04-19   \n",
       "3       4  2009      4          3     Bahrain Grand Prix  2009-04-26   \n",
       "4       5  2009      5          4     Spanish Grand Prix  2009-05-10   \n",
       "\n",
       "       time                                                url  \n",
       "0  06:00:00  http://en.wikipedia.org/wiki/2009_Australian_G...  \n",
       "1  09:00:00  http://en.wikipedia.org/wiki/2009_Malaysian_Gr...  \n",
       "2  07:00:00  http://en.wikipedia.org/wiki/2009_Chinese_Gran...  \n",
       "3  12:00:00  http://en.wikipedia.org/wiki/2009_Bahrain_Gran...  \n",
       "4  12:00:00  http://en.wikipedia.org/wiki/2009_Spanish_Gran...  "
      ]
     },
     "execution_count": 14,
     "metadata": {},
     "output_type": "execute_result"
    }
   ],
   "source": [
    "# Load races.csv as a DataFrame\n",
    "races = pd.read_csv('formula-1-race-data-19502017/races.csv', encoding='ISO-8859-1')\n",
    "%sql PERSIST races\n",
    "races.head()"
   ]
  },
  {
   "cell_type": "code",
   "execution_count": 15,
   "metadata": {},
   "outputs": [],
   "source": [
    "# Group by 'year'\n",
    "df = races.groupby('year').aggregate('count').reset_index()"
   ]
  },
  {
   "cell_type": "code",
   "execution_count": 16,
   "metadata": {},
   "outputs": [],
   "source": [
    "# Find a best fit line\n",
    "fit = stats.linregress(df['year'], df['raceId'])\n",
    "df['fit'] = fit.slope * df['year'] + fit.intercept"
   ]
  },
  {
   "cell_type": "code",
   "execution_count": 17,
   "metadata": {},
   "outputs": [
    {
     "data": {
      "text/plain": [
       "[<matplotlib.lines.Line2D at 0x122d5ecf8>]"
      ]
     },
     "execution_count": 17,
     "metadata": {},
     "output_type": "execute_result"
    },
    {
     "data": {
      "image/png": "[encoded data removed]",
      "text/plain": [
       "<Figure size 432x288 with 1 Axes>"
      ]
     },
     "metadata": {
      "needs_background": "light"
     },
     "output_type": "display_data"
    }
   ],
   "source": [
    "# Take a look at the results, is the slope increasing?\n",
    "# We can find out by performing a hypothesis test\n",
    "plt.plot(df['year'], df['raceId'], '.')\n",
    "plt.plot(df['year'], df['fit'], 'r-')"
   ]
  },
  {
   "cell_type": "code",
   "execution_count": 18,
   "metadata": {},
   "outputs": [
    {
     "data": {
      "text/plain": [
       "5.430315536260765e-34"
      ]
     },
     "execution_count": 18,
     "metadata": {},
     "output_type": "execute_result"
    }
   ],
   "source": [
    "# Chances of the slope being zero is...\n",
    "fit.pvalue"
   ]
  },
  {
   "cell_type": "code",
   "execution_count": 19,
   "metadata": {},
   "outputs": [
    {
     "data": {
      "text/plain": [
       "(array([ 5.,  8., 16., 11., 13.,  8.,  3.,  2.,  2.,  1.]),\n",
       " array([-2.26776276, -1.65865059, -1.04953842, -0.44042626,  0.16868591,\n",
       "         0.77779808,  1.38691024,  1.99602241,  2.60513458,  3.21424674,\n",
       "         3.82335891]),\n",
       " <a list of 10 Patch objects>)"
      ]
     },
     "execution_count": 19,
     "metadata": {},
     "output_type": "execute_result"
    },
    {
     "data": {
      "image/png": "[encoded data removed]",
      "text/plain": [
       "<Figure size 432x288 with 1 Axes>"
      ]
     },
     "metadata": {
      "needs_background": "light"
     },
     "output_type": "display_data"
    }
   ],
   "source": [
    "# Plot a histogram of the residuals\n",
    "# Does this look reasonably normal?\n",
    "plt.hist(df['raceId'] - df['fit'])"
   ]
  },
  {
   "cell_type": "markdown",
   "metadata": {},
   "source": [
    "## Problem 6\n",
    "Find all drivers that have won a drivers' championship title with Ferrari. "
   ]
  },
  {
   "cell_type": "code",
   "execution_count": 20,
   "metadata": {},
   "outputs": [
    {
     "name": "stdout",
     "output_type": "stream",
     "text": [
      " * sqlite://\n",
      "Done.\n",
      "3059 rows affected.\n"
     ]
    },
    {
     "data": {
      "text/plain": [
       "[]"
      ]
     },
     "execution_count": 20,
     "metadata": {},
     "output_type": "execute_result"
    }
   ],
   "source": [
    "%%sql\n",
    "\n",
    "-- For every season, find each driver's total points.\n",
    "-- Store the results of this query so we can use it again later.\n",
    "\n",
    "CREATE TEMP TABLE standings(consId INT, drivId INT, year INT, points INT);\n",
    "\n",
    "INSERT INTO Standings\n",
    "SELECT constructorId, driverId, \n",
    "       year, SUM(points)\n",
    "  FROM results AS re\n",
    "  JOIN races AS ra\n",
    "    ON re.raceId = ra.raceId\n",
    " GROUP BY driverId, year;"
   ]
  },
  {
   "cell_type": "code",
   "execution_count": 21,
   "metadata": {},
   "outputs": [
    {
     "name": "stdout",
     "output_type": "stream",
     "text": [
      " * sqlite://\n",
      "Done.\n"
     ]
    },
    {
     "data": {
      "text/html": [
       "<table>\n",
       "    <tr>\n",
       "        <th>forename</th>\n",
       "        <th>surname</th>\n",
       "        <th>nationality</th>\n",
       "        <th>year</th>\n",
       "    </tr>\n",
       "    <tr>\n",
       "        <td>Kimi</td>\n",
       "        <td>Räikkönen</td>\n",
       "        <td>Finnish</td>\n",
       "        <td>2007</td>\n",
       "    </tr>\n",
       "    <tr>\n",
       "        <td>Michael</td>\n",
       "        <td>Schumacher</td>\n",
       "        <td>German</td>\n",
       "        <td>2000</td>\n",
       "    </tr>\n",
       "    <tr>\n",
       "        <td>Michael</td>\n",
       "        <td>Schumacher</td>\n",
       "        <td>German</td>\n",
       "        <td>2001</td>\n",
       "    </tr>\n",
       "    <tr>\n",
       "        <td>Michael</td>\n",
       "        <td>Schumacher</td>\n",
       "        <td>German</td>\n",
       "        <td>2002</td>\n",
       "    </tr>\n",
       "    <tr>\n",
       "        <td>Michael</td>\n",
       "        <td>Schumacher</td>\n",
       "        <td>German</td>\n",
       "        <td>2003</td>\n",
       "    </tr>\n",
       "    <tr>\n",
       "        <td>Michael</td>\n",
       "        <td>Schumacher</td>\n",
       "        <td>German</td>\n",
       "        <td>2004</td>\n",
       "    </tr>\n",
       "    <tr>\n",
       "        <td>Niki</td>\n",
       "        <td>Lauda</td>\n",
       "        <td>Austrian</td>\n",
       "        <td>1975</td>\n",
       "    </tr>\n",
       "    <tr>\n",
       "        <td>Niki</td>\n",
       "        <td>Lauda</td>\n",
       "        <td>Austrian</td>\n",
       "        <td>1977</td>\n",
       "    </tr>\n",
       "    <tr>\n",
       "        <td>Jody</td>\n",
       "        <td>Scheckter</td>\n",
       "        <td>South African</td>\n",
       "        <td>1979</td>\n",
       "    </tr>\n",
       "    <tr>\n",
       "        <td>Phil</td>\n",
       "        <td>Hill</td>\n",
       "        <td>American</td>\n",
       "        <td>1961</td>\n",
       "    </tr>\n",
       "    <tr>\n",
       "        <td>Mike</td>\n",
       "        <td>Hawthorn</td>\n",
       "        <td>British</td>\n",
       "        <td>1958</td>\n",
       "    </tr>\n",
       "    <tr>\n",
       "        <td>Juan</td>\n",
       "        <td>Fangio</td>\n",
       "        <td>Argentine</td>\n",
       "        <td>1956</td>\n",
       "    </tr>\n",
       "    <tr>\n",
       "        <td>Alberto</td>\n",
       "        <td>Ascari</td>\n",
       "        <td>Italian</td>\n",
       "        <td>1952</td>\n",
       "    </tr>\n",
       "    <tr>\n",
       "        <td>Alberto</td>\n",
       "        <td>Ascari</td>\n",
       "        <td>Italian</td>\n",
       "        <td>1953</td>\n",
       "    </tr>\n",
       "</table>"
      ],
      "text/plain": [
       "[('Kimi', 'Räikkönen', 'Finnish', 2007),\n",
       " ('Michael', 'Schumacher', 'German', 2000),\n",
       " ('Michael', 'Schumacher', 'German', 2001),\n",
       " ('Michael', 'Schumacher', 'German', 2002),\n",
       " ('Michael', 'Schumacher', 'German', 2003),\n",
       " ('Michael', 'Schumacher', 'German', 2004),\n",
       " ('Niki', 'Lauda', 'Austrian', 1975),\n",
       " ('Niki', 'Lauda', 'Austrian', 1977),\n",
       " ('Jody', 'Scheckter', 'South African', 1979),\n",
       " ('Phil', 'Hill', 'American', 1961),\n",
       " ('Mike', 'Hawthorn', 'British', 1958),\n",
       " ('Juan', 'Fangio', 'Argentine', 1956),\n",
       " ('Alberto', 'Ascari', 'Italian', 1952),\n",
       " ('Alberto', 'Ascari', 'Italian', 1953)]"
      ]
     },
     "execution_count": 21,
     "metadata": {},
     "output_type": "execute_result"
    }
   ],
   "source": [
    "%%sql\n",
    "\n",
    "-- The ones with the most points are the driver's champion.\n",
    "-- Keep all entries where constructor name is Ferrari.\n",
    "\n",
    "-- Räikkönen isn't showing properly, so replace the original value.\n",
    "\n",
    "-- The sorting order of year is quite intersting.\n",
    "\n",
    "WITH champions(consId, drivId, year) AS \n",
    "     (SELECT consId, drivId, \n",
    "             s.year\n",
    "        FROM standings AS s\n",
    "        JOIN (SELECT year, \n",
    "                     MAX(points) AS points\n",
    "                FROM standings \n",
    "               GROUP BY year) AS ms\n",
    "          ON s.year = ms.year\n",
    "             AND s.points = ms.points)\n",
    "\n",
    "    \n",
    "SELECT forename, \n",
    "       REPLACE(surname,'RÌ_ikkÌ¦nen','Räikkönen') AS surname,\n",
    "       d.nationality, \n",
    "       ch.year\n",
    "  FROM champions AS ch\n",
    "  JOIN constr AS co\n",
    "    ON ch.consId = co.constructorId\n",
    "    \n",
    "  JOIN drivers AS d\n",
    "    ON ch.drivId = d.driverId\n",
    " WHERE co.name = 'Ferrari';"
   ]
  },
  {
   "cell_type": "markdown",
   "metadata": {},
   "source": [
    "## Problem 7\n",
    "Some drivers were very close to winning a title with Ferrari.\n",
    "\n",
    "Find the ones that lost by no more than five points."
   ]
  },
  {
   "cell_type": "code",
   "execution_count": 22,
   "metadata": {},
   "outputs": [
    {
     "name": "stdout",
     "output_type": "stream",
     "text": [
      " * sqlite://\n",
      "Done.\n"
     ]
    },
    {
     "data": {
      "text/html": [
       "<table>\n",
       "    <tr>\n",
       "        <th>forename</th>\n",
       "        <th>surname</th>\n",
       "        <th>nationality</th>\n",
       "        <th>year</th>\n",
       "        <th>points</th>\n",
       "    </tr>\n",
       "    <tr>\n",
       "        <td>Fernando</td>\n",
       "        <td>Alonso</td>\n",
       "        <td>Spanish</td>\n",
       "        <td>2010</td>\n",
       "        <td>4</td>\n",
       "    </tr>\n",
       "    <tr>\n",
       "        <td>Fernando</td>\n",
       "        <td>Alonso</td>\n",
       "        <td>Spanish</td>\n",
       "        <td>2012</td>\n",
       "        <td>3</td>\n",
       "    </tr>\n",
       "    <tr>\n",
       "        <td>Felipe</td>\n",
       "        <td>Massa</td>\n",
       "        <td>Brazilian</td>\n",
       "        <td>2008</td>\n",
       "        <td>1</td>\n",
       "    </tr>\n",
       "    <tr>\n",
       "        <td>Michael</td>\n",
       "        <td>Schumacher</td>\n",
       "        <td>German</td>\n",
       "        <td>1997</td>\n",
       "        <td>3</td>\n",
       "    </tr>\n",
       "    <tr>\n",
       "        <td>Eddie</td>\n",
       "        <td>Irvine</td>\n",
       "        <td>British</td>\n",
       "        <td>1999</td>\n",
       "        <td>2</td>\n",
       "    </tr>\n",
       "    <tr>\n",
       "        <td>Alain</td>\n",
       "        <td>Prost</td>\n",
       "        <td>French</td>\n",
       "        <td>1990</td>\n",
       "        <td>5</td>\n",
       "    </tr>\n",
       "    <tr>\n",
       "        <td>Niki</td>\n",
       "        <td>Lauda</td>\n",
       "        <td>Austrian</td>\n",
       "        <td>1976</td>\n",
       "        <td>1</td>\n",
       "    </tr>\n",
       "    <tr>\n",
       "        <td>Didier</td>\n",
       "        <td>Pironi</td>\n",
       "        <td>French</td>\n",
       "        <td>1982</td>\n",
       "        <td>5</td>\n",
       "    </tr>\n",
       "    <tr>\n",
       "        <td>Clay</td>\n",
       "        <td>Regazzoni</td>\n",
       "        <td>Swiss</td>\n",
       "        <td>1974</td>\n",
       "        <td>3</td>\n",
       "    </tr>\n",
       "    <tr>\n",
       "        <td>Jacky</td>\n",
       "        <td>Ickx</td>\n",
       "        <td>Belgian</td>\n",
       "        <td>1970</td>\n",
       "        <td>5</td>\n",
       "    </tr>\n",
       "    <tr>\n",
       "        <td>John</td>\n",
       "        <td>Surtees</td>\n",
       "        <td>British</td>\n",
       "        <td>1964</td>\n",
       "        <td>1</td>\n",
       "    </tr>\n",
       "    <tr>\n",
       "        <td>Wolfgang</td>\n",
       "        <td>von Trips</td>\n",
       "        <td>German</td>\n",
       "        <td>1961</td>\n",
       "        <td>5</td>\n",
       "    </tr>\n",
       "</table>"
      ],
      "text/plain": [
       "[('Fernando', 'Alonso', 'Spanish', 2010, 4),\n",
       " ('Fernando', 'Alonso', 'Spanish', 2012, 3),\n",
       " ('Felipe', 'Massa', 'Brazilian', 2008, 1),\n",
       " ('Michael', 'Schumacher', 'German', 1997, 3),\n",
       " ('Eddie', 'Irvine', 'British', 1999, 2),\n",
       " ('Alain', 'Prost', 'French', 1990, 5),\n",
       " ('Niki', 'Lauda', 'Austrian', 1976, 1),\n",
       " ('Didier', 'Pironi', 'French', 1982, 5),\n",
       " ('Clay', 'Regazzoni', 'Swiss', 1974, 3),\n",
       " ('Jacky', 'Ickx', 'Belgian', 1970, 5),\n",
       " ('John', 'Surtees', 'British', 1964, 1),\n",
       " ('Wolfgang', 'von Trips', 'German', 1961, 5)]"
      ]
     },
     "execution_count": 22,
     "metadata": {},
     "output_type": "execute_result"
    }
   ],
   "source": [
    "%%sql\n",
    "\n",
    "-- Similar to the previous query, but instead of finding standings where\n",
    "-- points = MAX(points), find ones where 0 < (points - MAX(points)) <= 5.\n",
    "\n",
    "WITH close_champions(consId, drivId, year, points) AS \n",
    "     (SELECT consId, drivId, \n",
    "             s.year,\n",
    "             ms.points - s.points\n",
    "        FROM standings AS s\n",
    "        JOIN (SELECT year, \n",
    "                     MAX(points) AS points\n",
    "                FROM standings \n",
    "               GROUP BY year) AS ms\n",
    "          ON s.year = ms.year\n",
    "       WHERE s.points <> ms.points\n",
    "         AND ms.points - s.points <= 5)\n",
    "\n",
    "SELECT forename, \n",
    "       surname,\n",
    "       d.nationality, \n",
    "       ch.year,\n",
    "       points\n",
    "  FROM close_champions AS ch\n",
    "  JOIN constr AS co\n",
    "    ON ch.consId = co.constructorId\n",
    "    \n",
    "  JOIN drivers AS d\n",
    "    ON ch.drivId = d.driverId\n",
    " WHERE co.name = 'Ferrari';"
   ]
  },
  {
   "cell_type": "code",
   "execution_count": 23,
   "metadata": {},
   "outputs": [
    {
     "name": "stdout",
     "output_type": "stream",
     "text": [
      " * sqlite://\n",
      "Done.\n"
     ]
    },
    {
     "data": {
      "text/plain": [
       "[]"
      ]
     },
     "execution_count": 23,
     "metadata": {},
     "output_type": "execute_result"
    }
   ],
   "source": [
    "%%sql\n",
    "\n",
    "-- Now remove the temporary table that was created earlier.\n",
    "\n",
    "DROP TABLE Standings;"
   ]
  },
  {
   "cell_type": "markdown",
   "metadata": {},
   "source": [
    "## Problem 8 \n",
    "Find all drivers to win a race before the age of 24."
   ]
  },
  {
   "cell_type": "code",
   "execution_count": 24,
   "metadata": {},
   "outputs": [
    {
     "data": {
      "text/plain": [
       "(0    07/01/1985\n",
       " 1    10/05/1977\n",
       " 2    27/06/1985\n",
       " 3    29/07/1981\n",
       " 4    19/10/1981\n",
       " Name: dob, dtype: object, 0    2009-03-29\n",
       " 1    2009-04-05\n",
       " 2    2009-04-19\n",
       " 3    2009-04-26\n",
       " 4    2009-05-10\n",
       " Name: date, dtype: object)"
      ]
     },
     "execution_count": 24,
     "metadata": {},
     "output_type": "execute_result"
    }
   ],
   "source": [
    "# Issue: driver's date of birth has a different format than race dates\n",
    "# We must convert them to the same format\n",
    "\n",
    "drivers['dob'].head(), races['date'].head()"
   ]
  },
  {
   "cell_type": "code",
   "execution_count": 25,
   "metadata": {},
   "outputs": [
    {
     "name": "stdout",
     "output_type": "stream",
     "text": [
      " * sqlite://\n",
      " * sqlite://\n"
     ]
    },
    {
     "data": {
      "text/plain": [
       "(0   1985-07-01\n",
       " 1   1977-10-05\n",
       " 2   1985-06-27\n",
       " 3   1981-07-29\n",
       " 4   1981-10-19\n",
       " Name: dob, dtype: datetime64[ns], 0   2009-03-29\n",
       " 1   2009-04-05\n",
       " 2   2009-04-19\n",
       " 3   2009-04-26\n",
       " 4   2009-05-10\n",
       " Name: date, dtype: datetime64[ns])"
      ]
     },
     "execution_count": 25,
     "metadata": {},
     "output_type": "execute_result"
    }
   ],
   "source": [
    "# This can be fixed by reading the csv with parse_dates option\n",
    "\n",
    "ddrivers = pd.read_csv('formula-1-race-data-19502017/drivers.csv', \n",
    "                      encoding='ISO-8859-1', parse_dates=['dob'])\n",
    "\n",
    "%sql PERSIST ddrivers\n",
    "\n",
    "draces = pd.read_csv('formula-1-race-data-19502017/races.csv', \n",
    "                      encoding='ISO-8859-1', parse_dates=['date'])\n",
    "\n",
    "%sql PERSIST draces\n",
    "\n",
    "ddrivers['dob'].head(), draces['date'].head()"
   ]
  },
  {
   "cell_type": "code",
   "execution_count": 35,
   "metadata": {},
   "outputs": [
    {
     "name": "stdout",
     "output_type": "stream",
     "text": [
      " * sqlite://\n",
      "Done.\n"
     ]
    },
    {
     "data": {
      "text/html": [
       "<table>\n",
       "    <tr>\n",
       "        <th>forename</th>\n",
       "        <th>surname</th>\n",
       "    </tr>\n",
       "    <tr>\n",
       "        <td>Lewis</td>\n",
       "        <td>Hamilton</td>\n",
       "    </tr>\n",
       "    <tr>\n",
       "        <td>Sebastian</td>\n",
       "        <td>Vettel</td>\n",
       "    </tr>\n",
       "    <tr>\n",
       "        <td>Fernando</td>\n",
       "        <td>Alonso</td>\n",
       "    </tr>\n",
       "    <tr>\n",
       "        <td>Michael</td>\n",
       "        <td>Schumacher</td>\n",
       "    </tr>\n",
       "    <tr>\n",
       "        <td>Jacky</td>\n",
       "        <td>Ickx</td>\n",
       "    </tr>\n",
       "    <tr>\n",
       "        <td>Bruce</td>\n",
       "        <td>McLaren</td>\n",
       "    </tr>\n",
       "    <tr>\n",
       "        <td>Troy</td>\n",
       "        <td>Ruttman</td>\n",
       "    </tr>\n",
       "    <tr>\n",
       "        <td>Max</td>\n",
       "        <td>Verstappen</td>\n",
       "    </tr>\n",
       "</table>"
      ],
      "text/plain": [
       "[('Lewis', 'Hamilton'),\n",
       " ('Sebastian', 'Vettel'),\n",
       " ('Fernando', 'Alonso'),\n",
       " ('Michael', 'Schumacher'),\n",
       " ('Jacky', 'Ickx'),\n",
       " ('Bruce', 'McLaren'),\n",
       " ('Troy', 'Ruttman'),\n",
       " ('Max', 'Verstappen')]"
      ]
     },
     "execution_count": 35,
     "metadata": {},
     "output_type": "execute_result"
    }
   ],
   "source": [
    "%%sql \n",
    "\n",
    "-- Not quite right, we are missing Raikkonen, Kubica, and Fittipaldi\n",
    "-- This could be a rounding error, as these drivers are included in\n",
    "-- the results when date - dob < 25.\n",
    "\n",
    "SELECT DISTINCT \n",
    "       forename, surname\n",
    "  FROM results re\n",
    "  JOIN ddrivers d\n",
    "    ON re.driverId=d.driverId\n",
    "    \n",
    "  JOIN draces r\n",
    "    ON re.raceId=r.raceId\n",
    " WHERE position=1\n",
    "   AND date - dob < 24;"
   ]
  },
  {
   "cell_type": "code",
   "execution_count": null,
   "metadata": {},
   "outputs": [],
   "source": []
  }
 ],
 "metadata": {
  "kernelspec": {
   "display_name": "Python 3",
   "language": "python",
   "name": "python3"
  },
  "language_info": {
   "codemirror_mode": {
    "name": "ipython",
    "version": 3
   },
   "file_extension": ".py",
   "mimetype": "text/x-python",
   "name": "python",
   "nbconvert_exporter": "python",
   "pygments_lexer": "ipython3",
   "version": "3.7.2"
  }
 },
 "nbformat": 4,
 "nbformat_minor": 2
}
