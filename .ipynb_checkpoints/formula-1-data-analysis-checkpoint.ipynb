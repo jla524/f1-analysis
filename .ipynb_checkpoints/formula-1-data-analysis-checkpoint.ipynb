{
 "cells": [
  {
   "cell_type": "code",
   "execution_count": 1,
   "metadata": {},
   "outputs": [],
   "source": [
    "# Import Python modules and connect to a SQL database\n",
    "\n",
    "import pandas as pd\n",
    "import seaborn as sns\n",
    "from scipy import stats\n",
    "import matplotlib.pyplot as plt\n",
    "import matplotlib.animation as animation\n",
    "from os.path import isdir, join\n",
    "from clean_data import clean_data\n",
    "from datetime import datetime, timedelta, date\n",
    "\n",
    "%load_ext sql\n",
    "%sql sqlite://\n",
    "\n",
    "%matplotlib inline"
   ]
  },
  {
   "cell_type": "code",
   "execution_count": 2,
   "metadata": {},
   "outputs": [],
   "source": [
    "# Check if a directory containing the cleaned data exists,\n",
    "# and create a new one if it does not exist\n",
    "\n",
    "in_directory = 'f1db_csv'\n",
    "out_directory = 'clean_f1db'\n",
    "\n",
    "if not isdir(out_directory):\n",
    "    clean_data(in_directory, out_directory)"
   ]
  },
  {
   "cell_type": "code",
   "execution_count": 3,
   "metadata": {},
   "outputs": [],
   "source": [
    "# Define a function to read the given CSV file with Pandas, \n",
    "# and then return the DataFrame\n",
    "\n",
    "def load_file(name, parse_dates=None):\n",
    "    path = join(out_directory, name + '.csv')\n",
    "    if not parse_dates:\n",
    "        return pd.read_csv(path)\n",
    "    return pd.read_csv(path, parse_dates=parse_dates)"
   ]
  },
  {
   "cell_type": "code",
   "execution_count": 14,
   "metadata": {
    "scrolled": true
   },
   "outputs": [
    {
     "name": "stdout",
     "output_type": "stream",
     "text": [
      " * sqlite://\n",
      "(sqlite3.OperationalError) near \"persist\": syntax error\n",
      "[SQL: persist drivers]\n",
      "(Background on this error at: http://sqlalche.me/e/13/e3q8)\n",
      " * sqlite://\n",
      "(sqlite3.OperationalError) near \"PERSIST\": syntax error\n",
      "[SQL: PERSIST constr]\n",
      "(Background on this error at: http://sqlalche.me/e/13/e3q8)\n",
      " * sqlite://\n",
      "(sqlite3.OperationalError) near \"PERSIST\": syntax error\n",
      "[SQL: PERSIST results]\n",
      "(Background on this error at: http://sqlalche.me/e/13/e3q8)\n",
      " * sqlite://\n",
      "(sqlite3.OperationalError) near \"PERSIST\": syntax error\n",
      "[SQL: PERSIST races]\n",
      "(Background on this error at: http://sqlalche.me/e/13/e3q8)\n",
      " * sqlite://\n",
      "(sqlite3.OperationalError) near \"PERSIST\": syntax error\n",
      "[SQL: PERSIST circuits]\n",
      "(Background on this error at: http://sqlalche.me/e/13/e3q8)\n"
     ]
    }
   ],
   "source": [
    "# Load the CSV files and create SQL tables\n",
    "\n",
    "drivers = load_file('drivers')\n",
    "%sql PERSIST drivers\n",
    "\n",
    "constr = load_file('constructors')\n",
    "%sql PERSIST constr\n",
    "\n",
    "results = load_file('results')\n",
    "%sql PERSIST results\n",
    "\n",
    "races = load_file('races')\n",
    "%sql PERSIST races\n",
    "\n",
    "circuits = load_file('circuits')\n",
    "%sql PERSIST circuits"
   ]
  },
  {
   "cell_type": "markdown",
   "metadata": {},
   "source": [
    "## SQL Table vs Pandas DataFrame\n",
    "Notice the similarities between the two."
   ]
  },
  {
   "cell_type": "code",
   "execution_count": 5,
   "metadata": {
    "scrolled": true
   },
   "outputs": [
    {
     "name": "stdout",
     "output_type": "stream",
     "text": [
      " * sqlite://\n",
      "(sqlite3.OperationalError) no such table: drivers\n",
      "[SQL: SELECT * FROM drivers LIMIT 5;]\n",
      "(Background on this error at: http://sqlalche.me/e/13/e3q8)\n"
     ]
    }
   ],
   "source": [
    "%sql SELECT * FROM drivers LIMIT 5;"
   ]
  },
  {
   "cell_type": "code",
   "execution_count": 6,
   "metadata": {},
   "outputs": [
    {
     "data": {
      "text/html": [
       "<div>\n",
       "<style scoped>\n",
       "    .dataframe tbody tr th:only-of-type {\n",
       "        vertical-align: middle;\n",
       "    }\n",
       "\n",
       "    .dataframe tbody tr th {\n",
       "        vertical-align: top;\n",
       "    }\n",
       "\n",
       "    .dataframe thead th {\n",
       "        text-align: right;\n",
       "    }\n",
       "</style>\n",
       "<table border=\"1\" class=\"dataframe\">\n",
       "  <thead>\n",
       "    <tr style=\"text-align: right;\">\n",
       "      <th></th>\n",
       "      <th>driverId</th>\n",
       "      <th>driverRef</th>\n",
       "      <th>number</th>\n",
       "      <th>code</th>\n",
       "      <th>forename</th>\n",
       "      <th>surname</th>\n",
       "      <th>dob</th>\n",
       "      <th>nationality</th>\n",
       "      <th>url</th>\n",
       "    </tr>\n",
       "  </thead>\n",
       "  <tbody>\n",
       "    <tr>\n",
       "      <th>0</th>\n",
       "      <td>driverId</td>\n",
       "      <td>driverRef</td>\n",
       "      <td>number</td>\n",
       "      <td>code</td>\n",
       "      <td>forename</td>\n",
       "      <td>surname</td>\n",
       "      <td>dob</td>\n",
       "      <td>nationality</td>\n",
       "      <td>url</td>\n",
       "    </tr>\n",
       "    <tr>\n",
       "      <th>1</th>\n",
       "      <td>1</td>\n",
       "      <td>hamilton</td>\n",
       "      <td>44</td>\n",
       "      <td>HAM</td>\n",
       "      <td>Lewis</td>\n",
       "      <td>Hamilton</td>\n",
       "      <td>1985-01-07</td>\n",
       "      <td>British</td>\n",
       "      <td>http://en.wikipedia.org/wiki/Lewis_Hamilton</td>\n",
       "    </tr>\n",
       "    <tr>\n",
       "      <th>2</th>\n",
       "      <td>2</td>\n",
       "      <td>heidfeld</td>\n",
       "      <td>NaN</td>\n",
       "      <td>HEI</td>\n",
       "      <td>Nick</td>\n",
       "      <td>Heidfeld</td>\n",
       "      <td>1977-05-10</td>\n",
       "      <td>German</td>\n",
       "      <td>http://en.wikipedia.org/wiki/Nick_Heidfeld</td>\n",
       "    </tr>\n",
       "    <tr>\n",
       "      <th>3</th>\n",
       "      <td>3</td>\n",
       "      <td>rosberg</td>\n",
       "      <td>6</td>\n",
       "      <td>ROS</td>\n",
       "      <td>Nico</td>\n",
       "      <td>Rosberg</td>\n",
       "      <td>1985-06-27</td>\n",
       "      <td>German</td>\n",
       "      <td>http://en.wikipedia.org/wiki/Nico_Rosberg</td>\n",
       "    </tr>\n",
       "    <tr>\n",
       "      <th>4</th>\n",
       "      <td>4</td>\n",
       "      <td>alonso</td>\n",
       "      <td>14</td>\n",
       "      <td>ALO</td>\n",
       "      <td>Fernando</td>\n",
       "      <td>Alonso</td>\n",
       "      <td>1981-07-29</td>\n",
       "      <td>Spanish</td>\n",
       "      <td>http://en.wikipedia.org/wiki/Fernando_Alonso</td>\n",
       "    </tr>\n",
       "  </tbody>\n",
       "</table>\n",
       "</div>"
      ],
      "text/plain": [
       "   driverId  driverRef  number  code  forename   surname         dob  \\\n",
       "0  driverId  driverRef  number  code  forename   surname         dob   \n",
       "1         1   hamilton      44   HAM     Lewis  Hamilton  1985-01-07   \n",
       "2         2   heidfeld     NaN   HEI      Nick  Heidfeld  1977-05-10   \n",
       "3         3    rosberg       6   ROS      Nico   Rosberg  1985-06-27   \n",
       "4         4     alonso      14   ALO  Fernando    Alonso  1981-07-29   \n",
       "\n",
       "   nationality                                           url  \n",
       "0  nationality                                           url  \n",
       "1      British   http://en.wikipedia.org/wiki/Lewis_Hamilton  \n",
       "2       German    http://en.wikipedia.org/wiki/Nick_Heidfeld  \n",
       "3       German     http://en.wikipedia.org/wiki/Nico_Rosberg  \n",
       "4      Spanish  http://en.wikipedia.org/wiki/Fernando_Alonso  "
      ]
     },
     "execution_count": 6,
     "metadata": {},
     "output_type": "execute_result"
    }
   ],
   "source": [
    "drivers.head()"
   ]
  },
  {
   "cell_type": "markdown",
   "metadata": {},
   "source": [
    "## Problem 1\n",
    "Find the most successful constructors in F1 by race wins and plot the results."
   ]
  },
  {
   "cell_type": "code",
   "execution_count": 7,
   "metadata": {},
   "outputs": [
    {
     "name": "stdout",
     "output_type": "stream",
     "text": [
      " * sqlite://\n",
      "(sqlite3.OperationalError) no such table: results\n",
      "[SQL: -- Find the total number of race wins for each constructor.\n",
      "-- Only keep the top 10, this makes it easier to view the pie chart.\n",
      "-- A win here means position = 1.\n",
      "\n",
      "SELECT name, COUNT(*) AS count\n",
      "  FROM results AS r\n",
      "  JOIN constr AS c\n",
      "    ON r.constructorId = c.constructorId\n",
      " WHERE position = 1\n",
      " GROUP BY r.constructorId\n",
      " ORDER BY count DESC\n",
      " LIMIT 10;]\n",
      "(Background on this error at: http://sqlalche.me/e/13/e3q8)\n"
     ]
    }
   ],
   "source": [
    "%%sql\n",
    "\n",
    "-- Find the total number of race wins for each constructor.\n",
    "-- Only keep the top 10, this makes it easier to view the pie chart.\n",
    "-- A win here means position = 1.\n",
    "\n",
    "SELECT name, COUNT(*) AS count\n",
    "  FROM results AS r\n",
    "  JOIN constr AS c\n",
    "    ON r.constructorId = c.constructorId\n",
    " WHERE position = 1\n",
    " GROUP BY r.constructorId\n",
    " ORDER BY count DESC\n",
    " LIMIT 10;"
   ]
  },
  {
   "cell_type": "code",
   "execution_count": 8,
   "metadata": {},
   "outputs": [],
   "source": [
    "# We can do the same with Pandas to verify the results\n",
    "\n",
    "df = results[results['position'] == 1]\n",
    "df = df.groupby('constructorId').agg('count')\n",
    "df = df.join(constr.set_index('constructorId'))"
   ]
  },
  {
   "cell_type": "code",
   "execution_count": 9,
   "metadata": {},
   "outputs": [
    {
     "data": {
      "text/html": [
       "<div>\n",
       "<style scoped>\n",
       "    .dataframe tbody tr th:only-of-type {\n",
       "        vertical-align: middle;\n",
       "    }\n",
       "\n",
       "    .dataframe tbody tr th {\n",
       "        vertical-align: top;\n",
       "    }\n",
       "\n",
       "    .dataframe thead th {\n",
       "        text-align: right;\n",
       "    }\n",
       "</style>\n",
       "<table border=\"1\" class=\"dataframe\">\n",
       "  <thead>\n",
       "    <tr style=\"text-align: right;\">\n",
       "      <th></th>\n",
       "      <th>name</th>\n",
       "      <th>resultId</th>\n",
       "    </tr>\n",
       "    <tr>\n",
       "      <th>constructorId</th>\n",
       "      <th></th>\n",
       "      <th></th>\n",
       "    </tr>\n",
       "  </thead>\n",
       "  <tbody>\n",
       "  </tbody>\n",
       "</table>\n",
       "</div>"
      ],
      "text/plain": [
       "Empty DataFrame\n",
       "Columns: [name, resultId]\n",
       "Index: []"
      ]
     },
     "execution_count": 9,
     "metadata": {},
     "output_type": "execute_result"
    }
   ],
   "source": [
    "# Both methods produced the same result, but which one is easier to read?\n",
    "\n",
    "df = df[['name', 'resultId']].sort_values('resultId', ascending=False)\n",
    "df = df.head(10)\n",
    "df"
   ]
  },
  {
   "cell_type": "code",
   "execution_count": 10,
   "metadata": {},
   "outputs": [
    {
     "data": {
      "text/plain": [
       "Text(0.5, 1.0, 'Number of Race Wins in Formula 1')"
      ]
     },
     "execution_count": 10,
     "metadata": {},
     "output_type": "execute_result"
    },
    {
     "data": {
      "image/png": "[encoded data removed]",
      "text/plain": [
       "<Figure size 432x288 with 1 Axes>"
      ]
     },
     "metadata": {
      "needs_background": "light"
     },
     "output_type": "display_data"
    }
   ],
   "source": [
    "'''\n",
    "Now we can produce a bar chart using the DataFrame. Since Matplotlib allows \n",
    "us to specify colors in the pie chart, we can use the colors that represent \n",
    "these teams.\n",
    "\n",
    "Credits to www.f1colours.com, html-color-codes.info/colors-from-image/, and\n",
    "www.reddit.com/r/formula1/comments/arxt0r/f1_2019_team_colors_hex_codes/\n",
    "for the team colors.\n",
    "'''\n",
    "\n",
    "colors = ['#DC0000', '#FF8700', '#FFFFFF', '#00D2BE', '#1E41FF', \n",
    "          '#AF9B5E', '#FFDF00', '#35C4EC', '#095248', '#30505C']\n",
    "\n",
    "plt.xticks(rotation=30)\n",
    "plt.bar(df['name'], df['resultId'], color=colors, edgecolor='#000000');\n",
    "plt.title('Number of Race Wins in Formula 1')"
   ]
  },
  {
   "cell_type": "markdown",
   "metadata": {},
   "source": [
    "## Problem 2\n",
    "Find the most successful constructors in F1 by win rate and plot the results.\n",
    "\n",
    "Win rate is defined by number of race wins divided by number of race entries."
   ]
  },
  {
   "cell_type": "code",
   "execution_count": 11,
   "metadata": {},
   "outputs": [
    {
     "name": "stdout",
     "output_type": "stream",
     "text": [
      " * sqlite://\n",
      "(sqlite3.OperationalError) no such table: constr\n",
      "[SQL: -- Similar to the previous query, first find the number of race wins\n",
      "-- Then compute the number of race entries and divide\n",
      "\n",
      "WITH race_wins(consId, wins) AS \n",
      "     (SELECT constructorId, COUNT(*)\n",
      "        FROM results\n",
      "       WHERE position = 1\n",
      "       GROUP BY constructorId)\n",
      "\n",
      "\n",
      "SELECT name, \n",
      "       ROUND(1.0 * W.wins / COUNT(*), 3) AS win_rate\n",
      "  FROM constr AS c\n",
      "       JOIN results AS r\n",
      "       ON c.constructorId = r.constructorId\n",
      "        \n",
      "       JOIN race_wins AS w\n",
      "       ON r.constructorId = w.consId\n",
      " GROUP BY r.constructorId\n",
      " ORDER BY win_rate DESC\n",
      " LIMIT 10;]\n",
      "(Background on this error at: http://sqlalche.me/e/13/e3q8)\n"
     ]
    }
   ],
   "source": [
    "%%sql \n",
    "\n",
    "-- Similar to the previous query, first find the number of race wins\n",
    "-- Then compute the number of race entries and divide\n",
    "\n",
    "WITH race_wins(consId, wins) AS \n",
    "     (SELECT constructorId, COUNT(*)\n",
    "        FROM results\n",
    "       WHERE position = 1\n",
    "       GROUP BY constructorId)\n",
    "\n",
    "\n",
    "SELECT name, \n",
    "       ROUND(1.0 * W.wins / COUNT(*), 3) AS win_rate\n",
    "  FROM constr AS c\n",
    "       JOIN results AS r\n",
    "       ON c.constructorId = r.constructorId\n",
    "        \n",
    "       JOIN race_wins AS w\n",
    "       ON r.constructorId = w.consId\n",
    " GROUP BY r.constructorId\n",
    " ORDER BY win_rate DESC\n",
    " LIMIT 10;"
   ]
  },
  {
   "cell_type": "code",
   "execution_count": 12,
   "metadata": {},
   "outputs": [
    {
     "ename": "AttributeError",
     "evalue": "'Text' object has no attribute 'bar'",
     "output_type": "error",
     "traceback": [
      "\u001b[0;31m---------------------------------------------------------------------------\u001b[0m",
      "\u001b[0;31mAttributeError\u001b[0m                            Traceback (most recent call last)",
      "\u001b[0;32m<ipython-input-12-1bee8081e548>\u001b[0m in \u001b[0;36m<module>\u001b[0;34m\u001b[0m\n\u001b[1;32m      3\u001b[0m \u001b[0;34m\u001b[0m\u001b[0m\n\u001b[1;32m      4\u001b[0m \u001b[0mplt\u001b[0m\u001b[0;34m.\u001b[0m\u001b[0mtitle\u001b[0m\u001b[0;34m(\u001b[0m\u001b[0;34m'Win Rate in Formula 1'\u001b[0m\u001b[0;34m)\u001b[0m\u001b[0;34m\u001b[0m\u001b[0;34m\u001b[0m\u001b[0m\n\u001b[0;32m----> 5\u001b[0;31m \u001b[0m_\u001b[0m\u001b[0;34m.\u001b[0m\u001b[0mbar\u001b[0m\u001b[0;34m(\u001b[0m\u001b[0mcolor\u001b[0m\u001b[0;34m=\u001b[0m\u001b[0mcolors\u001b[0m\u001b[0;34m,\u001b[0m \u001b[0medgecolor\u001b[0m\u001b[0;34m=\u001b[0m\u001b[0;34m'#000000'\u001b[0m\u001b[0;34m)\u001b[0m\u001b[0;34m\u001b[0m\u001b[0;34m\u001b[0m\u001b[0m\n\u001b[0m",
      "\u001b[0;31mAttributeError\u001b[0m: 'Text' object has no attribute 'bar'"
     ]
    },
    {
     "data": {
      "image/png": "[encoded data removed]",
      "text/plain": [
       "<Figure size 432x288 with 1 Axes>"
      ]
     },
     "metadata": {
      "needs_background": "light"
     },
     "output_type": "display_data"
    }
   ],
   "source": [
    "colors = ['#D5FA78', '#00D2BE', '#76B2E6', '#498F84', '#B0301C', \n",
    "          '#FFFEFF', '#1E41FF', '#DC0000', '#FF8700', '#025A2F']\n",
    "\n",
    "plt.title('Win Rate in Formula 1')\n",
    "_.bar(color=colors, edgecolor='#000000')"
   ]
  },
  {
   "cell_type": "markdown",
   "metadata": {},
   "source": [
    "## Problem 3\n",
    "Is the number of races each season increasing?"
   ]
  },
  {
   "cell_type": "code",
   "execution_count": null,
   "metadata": {},
   "outputs": [],
   "source": [
    "# Group by 'year' and aggregate by count\n",
    "\n",
    "df = races.groupby('year').aggregate('count').reset_index()"
   ]
  },
  {
   "cell_type": "code",
   "execution_count": null,
   "metadata": {},
   "outputs": [],
   "source": [
    "# Find a best fit line\n",
    "\n",
    "fit = stats.linregress(df['year'], df['raceId'])\n",
    "df['fit'] = fit.slope * df['year'] + fit.intercept"
   ]
  },
  {
   "cell_type": "code",
   "execution_count": null,
   "metadata": {},
   "outputs": [],
   "source": [
    "# Take a look at the results, is the slope increasing?\n",
    "\n",
    "plt.plot(df['year'], df['raceId'], '.')\n",
    "plt.plot(df['year'], df['fit'], 'r-')\n",
    "plt.title('Number of Races vs Year')\n",
    "plt.xlabel('Year')\n",
    "plt.ylabel('Number of Races')"
   ]
  },
  {
   "cell_type": "markdown",
   "metadata": {},
   "source": [
    "## Problem 4\n",
    "Find all drivers that have won a drivers' championship title with Ferrari. "
   ]
  },
  {
   "cell_type": "code",
   "execution_count": null,
   "metadata": {},
   "outputs": [],
   "source": [
    "%%sql\n",
    "\n",
    "-- For every season, find each driver's total points.\n",
    "-- Store the results of this query so we can use it again later.\n",
    "\n",
    "CREATE TEMP TABLE standings(consId INT, drivId INT, year INT, points INT);\n",
    "\n",
    "INSERT INTO Standings\n",
    "SELECT constructorId, driverId, \n",
    "       year, SUM(points)\n",
    "  FROM results AS re\n",
    "  JOIN races AS ra\n",
    "    ON re.raceId = ra.raceId\n",
    " GROUP BY driverId, year;"
   ]
  },
  {
   "cell_type": "code",
   "execution_count": null,
   "metadata": {},
   "outputs": [],
   "source": [
    "%%sql\n",
    "\n",
    "-- The drivers that have scored the most points in a season are the\n",
    "-- driver's champion. Keep entries where constructor name is Ferrari.\n",
    "\n",
    "-- The sorting order of year is quite intersting.\n",
    "\n",
    "WITH champions(consId, drivId, year) AS \n",
    "     (SELECT consId, drivId, \n",
    "             s.year\n",
    "        FROM standings AS s\n",
    "        JOIN (SELECT year, \n",
    "                     MAX(points) AS points\n",
    "                FROM standings \n",
    "               GROUP BY year) AS ms\n",
    "          ON s.year = ms.year\n",
    "             AND s.points = ms.points)\n",
    "\n",
    "    \n",
    "SELECT forename, \n",
    "       surname,\n",
    "       d.nationality, \n",
    "       ch.year\n",
    "  FROM champions AS ch\n",
    "  JOIN constr AS co\n",
    "    ON ch.consId = co.constructorId\n",
    "    \n",
    "  JOIN drivers AS d\n",
    "    ON ch.drivId = d.driverId\n",
    " WHERE co.name = 'Ferrari';"
   ]
  },
  {
   "cell_type": "markdown",
   "metadata": {},
   "source": [
    "## Problem 5\n",
    "Some drivers were very close to winning a title with Ferrari.\n",
    "\n",
    "Find the ones that lost by no more than five points."
   ]
  },
  {
   "cell_type": "code",
   "execution_count": null,
   "metadata": {},
   "outputs": [],
   "source": [
    "%%sql\n",
    "\n",
    "-- Similar to the previous query, but instead of finding standings where\n",
    "-- points = MAX(points), find ones where 0 < (points - MAX(points)) <= 5.\n",
    "\n",
    "WITH close_champions(consId, drivId, year, points) AS \n",
    "     (SELECT consId, drivId, \n",
    "             s.year,\n",
    "             ms.points - s.points\n",
    "        FROM standings AS s\n",
    "        JOIN (SELECT year, \n",
    "                     MAX(points) AS points\n",
    "                FROM standings \n",
    "               GROUP BY year) AS ms\n",
    "          ON s.year = ms.year\n",
    "       WHERE s.points <> ms.points\n",
    "         AND ms.points - s.points <= 5)\n",
    "\n",
    "SELECT forename, surname,\n",
    "       d.nationality, \n",
    "       ch.year, points\n",
    "  FROM close_champions AS ch\n",
    "  JOIN constr AS co\n",
    "    ON ch.consId = co.constructorId\n",
    "    \n",
    "  JOIN drivers AS d\n",
    "    ON ch.drivId = d.driverId\n",
    " WHERE co.name = 'Ferrari';"
   ]
  },
  {
   "cell_type": "code",
   "execution_count": null,
   "metadata": {},
   "outputs": [],
   "source": [
    "%%sql\n",
    "\n",
    "-- Now remove the temporary table that was created earlier.\n",
    "\n",
    "DROP TABLE Standings;"
   ]
  },
  {
   "cell_type": "markdown",
   "metadata": {},
   "source": [
    "## Problem 6\n",
    "Find all drivers to win a race before the age of 24."
   ]
  },
  {
   "cell_type": "code",
   "execution_count": null,
   "metadata": {},
   "outputs": [],
   "source": [
    "'''\n",
    "Issue: driver's date of birth has a different format than race dates.\n",
    "We must convert them to the same format. We can do this by reading \n",
    "the csv files again with the parse_dates argument.\n",
    "'''\n",
    "\n",
    "ddrivers = load_file('drivers', parse_dates=['dob'])\n",
    "\n",
    "%sql PERSIST ddrivers\n",
    "\n",
    "draces = load_file('races', parse_dates=['date'])\n",
    "\n",
    "%sql PERSIST draces\n",
    "\n",
    "ddrivers['dob'].head(), draces['date'].head()"
   ]
  },
  {
   "cell_type": "code",
   "execution_count": null,
   "metadata": {},
   "outputs": [],
   "source": [
    "%%sql \n",
    "\n",
    "-- Not quite right, we are missing Raikkonen, Kubica, and Fittipaldi\n",
    "-- This could be a rounding error, as these drivers are included in\n",
    "-- the results when date - dob < 25.\n",
    "\n",
    "SELECT DISTINCT forename, surname\n",
    "  FROM results re\n",
    "  JOIN ddrivers d\n",
    "    ON re.driverId = d.driverId\n",
    "    \n",
    "  JOIN draces r\n",
    "    ON re.raceId = r.raceId\n",
    " WHERE position = 1\n",
    "   AND date - dob < 24;"
   ]
  },
  {
   "cell_type": "code",
   "execution_count": null,
   "metadata": {},
   "outputs": [],
   "source": [
    "%%sql\n",
    "\n",
    "-- Joining the tables in Python then calculating the time delta\n",
    "-- doesn't return the correct results either.\n",
    "\n",
    "-- Idea: Join tables in SQL and compute the time delta in Python.\n",
    "\n",
    "SELECT DISTINCT forename, surname,\n",
    "       MIN(date) AS date, dob\n",
    "  FROM results re\n",
    "  JOIN ddrivers d\n",
    "    ON re.driverId = d.driverId\n",
    "    \n",
    "  JOIN draces r\n",
    "    ON re.raceId = r.raceId\n",
    " WHERE position = 1\n",
    "   AND date - dob < 25\n",
    " GROUP BY forename, surname;"
   ]
  },
  {
   "cell_type": "code",
   "execution_count": null,
   "metadata": {},
   "outputs": [],
   "source": [
    "# Convert the query results to a DataFrame\n",
    "\n",
    "df = _.DataFrame()"
   ]
  },
  {
   "cell_type": "code",
   "execution_count": null,
   "metadata": {},
   "outputs": [],
   "source": [
    "# After the convertion 'date' and 'dob' are stored as strings,\n",
    "# so convert them back to datetime format.\n",
    "\n",
    "def convert2time(str):\n",
    "    return datetime.strptime(str[:10], '%Y-%m-%d')\n",
    "\n",
    "df['date'] = df['date'].apply(convert2time)\n",
    "df['dob'] = df['dob'].apply(convert2time)"
   ]
  },
  {
   "cell_type": "code",
   "execution_count": null,
   "metadata": {},
   "outputs": [],
   "source": [
    "# Finally, calculate the drivers' age when they won the race\n",
    "# and keep all entries where age < 24. \n",
    "\n",
    "df['age'] = df['date'] - df['dob']\n",
    "df = df[df['age'] < timedelta(days=365*24)]\n",
    "\n",
    "df = df[['forename', 'surname']].drop_duplicates()"
   ]
  },
  {
   "cell_type": "code",
   "execution_count": null,
   "metadata": {},
   "outputs": [],
   "source": [
    "df"
   ]
  },
  {
   "cell_type": "markdown",
   "metadata": {},
   "source": [
    "## Problem 7\n",
    "Create a plot of Lewis Hamilton vs Sebastian Vettel in 2017"
   ]
  },
  {
   "cell_type": "code",
   "execution_count": null,
   "metadata": {},
   "outputs": [],
   "source": [
    "%%sql\n",
    "\n",
    "-- Find the number of points these drivers received for\n",
    "-- each race in 2017.\n",
    "\n",
    "SELECT d.surname, re.points, c.country\n",
    "  FROM races ra\n",
    "  JOIN results re\n",
    "    ON ra.raceId = re.raceId\n",
    "\n",
    "  JOIN drivers d\n",
    "    ON re.driverId = d.driverId\n",
    "    \n",
    "  JOIN circuits c\n",
    "    ON ra.circuitId = c.circuitId\n",
    " WHERE year = 2017\n",
    "   AND (surname = 'Hamilton'\n",
    "       OR surname = 'Vettel');"
   ]
  },
  {
   "cell_type": "code",
   "execution_count": null,
   "metadata": {},
   "outputs": [],
   "source": [
    "df = _.DataFrame()\n",
    "\n",
    "ham = df[df['surname'] == 'Hamilton'].copy()\n",
    "vet = df[df['surname'] == 'Vettel'].copy()\n",
    "\n",
    "shift = ham.shape[0]\n",
    "\n",
    "ham['points'] = ham['points'].rolling(shift, min_periods=1).sum()\n",
    "vet['points'] = vet['points'].rolling(shift, min_periods=1).sum()"
   ]
  },
  {
   "cell_type": "code",
   "execution_count": null,
   "metadata": {},
   "outputs": [],
   "source": [
    "x = ham['country']\n",
    "\n",
    "plt.figure(figsize=(12,9))\n",
    "plt.plot(x, ham['points'], 'c-')\n",
    "plt.plot(x, vet['points'], 'r-')\n",
    "\n",
    "plt.xticks(rotation=30)\n",
    "plt.xlabel('Race')\n",
    "plt.ylabel('Points')\n",
    "plt.title('Hamilton vs Vettel in 2017')\n",
    "plt.legend(['Hamilton', 'Vettel'])"
   ]
  },
  {
   "cell_type": "markdown",
   "metadata": {},
   "source": [
    "## Problem 8\n",
    "Is the avearge duration of pit stops decreasing over time?"
   ]
  },
  {
   "cell_type": "code",
   "execution_count": null,
   "metadata": {},
   "outputs": [],
   "source": [
    "'''\n",
    "Difficult problem to solve since some data cleaning is required\n",
    "First problem: raceId is between 841 and 1020, but the 1000th\n",
    "race actually took place in 2019. Also, the duration of a pit\n",
    "stop should be around 2 seconds rather than 20. So it would make\n",
    "sense to divide the duration by 10.\n",
    "Assume the given data is correct, this is how I would proceed.\n",
    "'''\n",
    "\n",
    "pit = load_file('pit_stops')\n",
    "\n",
    "pit['duration'] = pit['milliseconds'] / 1000\n",
    "\n",
    "pit.describe()"
   ]
  },
  {
   "cell_type": "code",
   "execution_count": null,
   "metadata": {},
   "outputs": [],
   "source": [
    "# Notice the outliers here, a pit stop should not take more\n",
    "# than a minute. So it makes sense to remove them.\n",
    "\n",
    "pit['duration'] /= 10\n",
    "\n",
    "plt.plot(pit['raceId'], pit['duration'], '.')\n",
    "plt.xlabel('Race Number')\n",
    "plt.ylabel('Pit Stop Duration (seconds)')"
   ]
  },
  {
   "cell_type": "code",
   "execution_count": null,
   "metadata": {},
   "outputs": [],
   "source": [
    "# Now we can begin working on the data.\n",
    "\n",
    "df = pit[pit['duration'] < 60].copy()\n",
    "\n",
    "df = df.join(races, on='raceId', how='inner', rsuffix='races')\n",
    "df = df.groupby('year').aggregate('mean').reset_index()"
   ]
  },
  {
   "cell_type": "code",
   "execution_count": null,
   "metadata": {},
   "outputs": [],
   "source": [
    "# Using seaborn, a higher-level plotting library. It seems\n",
    "# like the average pit stop duration is actually increasing.\n",
    "\n",
    "sns.lmplot('year', 'duration', data=df)\n",
    "plt.title('Average Pit Stop Duration over Time')"
   ]
  },
  {
   "cell_type": "code",
   "execution_count": null,
   "metadata": {},
   "outputs": [],
   "source": []
  }
 ],
 "metadata": {
  "kernelspec": {
   "display_name": "Python 3",
   "language": "python",
   "name": "python3"
  },
  "language_info": {
   "codemirror_mode": {
    "name": "ipython",
    "version": 3
   },
   "file_extension": ".py",
   "mimetype": "text/x-python",
   "name": "python",
   "nbconvert_exporter": "python",
   "pygments_lexer": "ipython3",
   "version": "3.7.9"
  }
 },
 "nbformat": 4,
 "nbformat_minor": 2
}
